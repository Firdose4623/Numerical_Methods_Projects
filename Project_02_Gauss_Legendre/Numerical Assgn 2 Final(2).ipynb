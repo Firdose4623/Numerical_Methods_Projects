{
 "cells": [
  {
   "cell_type": "markdown",
   "id": "b14d950c",
   "metadata": {},
   "source": [
    "### Basic Outline: Part 1"
   ]
  },
  {
   "cell_type": "raw",
   "id": "3655f64b-7318-4514-858b-6fe5d940dc03",
   "metadata": {},
   "source": [
    "1)  Forming the Jacobi matrix. \n",
    "2)  Calculating the eigenvalues and eigenvectors of this matrix. \n",
    "3)  Eigenvalues of J correspond to the roots of the P_n polynomial.\n",
    "4)  Weights = (eigenvector)^2 * [integral(w(x)) limits -1 to 1].\n",
    "5)  For legendre polynomial w(x) = 1; Weights = (eigenvector)^2 * 2"
   ]
  },
  {
   "cell_type": "markdown",
   "id": "be3b0174",
   "metadata": {},
   "source": [
    "### Jacobi Matrix - Tridiagonal matrix"
   ]
  },
  {
   "cell_type": "raw",
   "id": "76fdabc1-f241-4bde-8662-97a6dee3ccec",
   "metadata": {},
   "source": [
    "* For Legendre polynomial of the form: (n+1)P_n+1 = (2n+1)xP_n - (n)P_n-1\n",
    "* The diagonal entries of the Jacobi matrix are equal to 0\n",
    "* The non-diagonal entries are symmetric and equal to n/(root(2n-1)(2n+1))"
   ]
  },
  {
   "cell_type": "code",
   "execution_count": 1,
   "id": "3484d1d0",
   "metadata": {},
   "outputs": [],
   "source": [
    "import numpy as np\n",
    "import math\n",
    "import pandas as pd\n",
    "import matplotlib.pyplot as plt\n",
    "import sympy as sp\n",
    "import scipy.linalg as la\n",
    "import matplotlib.pyplot as plt"
   ]
  },
  {
   "cell_type": "code",
   "execution_count": 2,
   "id": "be231ffa-04a0-42bc-a2d0-a8903e64a014",
   "metadata": {},
   "outputs": [],
   "source": [
    "check = 0"
   ]
  },
  {
   "cell_type": "code",
   "execution_count": 34,
   "id": "4a58614a-120a-4467-acb8-84d68ed30a97",
   "metadata": {},
   "outputs": [],
   "source": [
    "n = 64"
   ]
  },
  {
   "cell_type": "markdown",
   "id": "4e42b7d5-9b82-4319-9f8b-7a543e62e662",
   "metadata": {},
   "source": [
    "#### Manual function for eigenvalues and eigenvectors"
   ]
  },
  {
   "cell_type": "code",
   "execution_count": 35,
   "id": "71370cdc-9392-41ce-81e2-5bea90f211c0",
   "metadata": {},
   "outputs": [],
   "source": [
    "def lud(a):\n",
    "    n = a.shape[0]\n",
    "    l = np.zeros((n, n))\n",
    "    u = np.zeros((n, n))\n",
    "    np.fill_diagonal(l, 1)\n",
    "    u[0] = a[0]\n",
    "\n",
    "    for i in range(1, n):\n",
    "        for j in range(n):\n",
    "            if i <= j:\n",
    "                u[i][j] = a[i][j] - sum(u[k][j] * l[i][k] for k in range(i))\n",
    "            if i > j:\n",
    "                l[i][j] = (a[i][j] - sum(u[k][j] * l[i][k] for k in range(j))) / u[j][j]\n",
    "                \n",
    "    return l, u\n",
    "    \n",
    "def shift(A):\n",
    "    possible_shift_vals = []\n",
    "    \n",
    "    for i in range(np.shape(A)[0]):\n",
    "        up_lim = A[i][i]\n",
    "        low_lim = A[i][i] \n",
    "        \n",
    "        for j in range(np.shape(A)[0]):\n",
    "            if i != j :\n",
    "                up_lim=up_lim+abs(A[i][j])\n",
    "                low_lim=low_lim-abs(A[i][j])\n",
    "                \n",
    "        possible_shift_vals.append(up_lim )\n",
    "        possible_shift_vals.append(low_lim)    \n",
    "\n",
    "    shift=np.max(np.abs(possible_shift_vals))\n",
    "    return shift\n",
    "\n",
    "def UL_eigen (A, iters= 50000, tol = 1e-15):\n",
    "    m,n = A.shape \n",
    "    I = np.identity (np.shape(A)[0])\n",
    "    shift_A = shift(A) + 1\n",
    "    A = A + I * (shift_A)\n",
    "    \n",
    "    D1 = A ; D2 = np.ones(np.shape(A))\n",
    "    iter = 0\n",
    "  \n",
    "    while (np.allclose(np.diagonal (D1), np.diagonal (D2), tol)==False) :\n",
    "        L,U = lud(D1)\n",
    "        D2 = np.matmul (U,L)\n",
    "        \n",
    "        if (np.allclose(np.diagonal (D1), np.diagonal (D2), tol)==True):\n",
    "            return np.diagonal(D2) -(shift_A)\n",
    "            \n",
    "        D1 = D2\n",
    "        D2 = np.zeros((m,n))\n",
    "        iter = iter + 1\n",
    "\n",
    "        if (iter > iters):\n",
    "            raise ValueError (\"System fails to converge after 50000 iterations. Try another matrix\")\n",
    "            return \"NA\""
   ]
  },
  {
   "cell_type": "code",
   "execution_count": 36,
   "id": "72d8011d-a74d-4475-a399-921a1e9826a1",
   "metadata": {},
   "outputs": [],
   "source": [
    "def eigenvector_for_eigenvalue(A, eigenvalue, tol=1e-6):\n",
    "    n = A.shape[0]\n",
    "    I = np.eye(n)\n",
    "    matrix = A - eigenvalue * I\n",
    "    U, S, Vt = np.linalg.svd(matrix)\n",
    "    null_space_index = np.argmin(S)\n",
    "    \n",
    "    if S[null_space_index] > tol:\n",
    "        raise ValueError(\"Provided eigenvalue does not correspond to an eigenvector in this matrix.\")\n",
    "\n",
    "    eigenvector = Vt.T[:, null_space_index]\n",
    "    eigenvector /= np.linalg.norm(eigenvector)\n",
    "    \n",
    "    return eigenvector"
   ]
  },
  {
   "cell_type": "code",
   "execution_count": 37,
   "id": "62cae805-92ce-4b03-b4d1-34c3b0eef462",
   "metadata": {},
   "outputs": [],
   "source": [
    "def eigenv (matrix):\n",
    "    table=[]\n",
    "    e = UL_eigen(matrix)\n",
    "    \n",
    "    for i in range(len(e)):\n",
    "        vect = eigenvector_for_eigenvalue(matrix, e[i])\n",
    "        table.append(vect)\n",
    "        \n",
    "    eigv = pd.DataFrame(table)\n",
    "    eigv = eigv.iloc[:,0].values\n",
    "    return eigv"
   ]
  },
  {
   "cell_type": "markdown",
   "id": "a990f48a",
   "metadata": {},
   "source": [
    "#### Forming Jacobi matrix"
   ]
  },
  {
   "cell_type": "code",
   "execution_count": 38,
   "id": "ba6d0d26",
   "metadata": {},
   "outputs": [],
   "source": [
    "def jacobi_matrix(n):\n",
    "    matrix = np.zeros([n,n])\n",
    "    for i in range(n):\n",
    "        for j in range(n):\n",
    "            if i == j:\n",
    "                matrix[i][j] = 0 \n",
    "            elif np.abs(i-j) == 1 and i>j:\n",
    "                matrix[i][j] = i/np.sqrt((2*i-1)*(2*i+1))\n",
    "                matrix[j][i] = matrix[i][j]\n",
    "    return matrix"
   ]
  },
  {
   "cell_type": "code",
   "execution_count": 39,
   "id": "662e0185",
   "metadata": {},
   "outputs": [
    {
     "data": {
      "text/plain": [
       "array([[0.        , 0.57735027, 0.        , ..., 0.        , 0.        ,\n",
       "        0.        ],\n",
       "       [0.57735027, 0.        , 0.51639778, ..., 0.        , 0.        ,\n",
       "        0.        ],\n",
       "       [0.        , 0.51639778, 0.        , ..., 0.        , 0.        ,\n",
       "        0.        ],\n",
       "       ...,\n",
       "       [0.        , 0.        , 0.        , ..., 0.        , 0.50001626,\n",
       "        0.        ],\n",
       "       [0.        , 0.        , 0.        , ..., 0.50001626, 0.        ,\n",
       "        0.50001575],\n",
       "       [0.        , 0.        , 0.        , ..., 0.        , 0.50001575,\n",
       "        0.        ]])"
      ]
     },
     "execution_count": 39,
     "metadata": {},
     "output_type": "execute_result"
    }
   ],
   "source": [
    "matrix = jacobi_matrix(n)\n",
    "matrix"
   ]
  },
  {
   "cell_type": "markdown",
   "id": "f3c556b3",
   "metadata": {},
   "source": [
    "#### Calculating eigenvalues and eigenvectors of the above matrix"
   ]
  },
  {
   "cell_type": "code",
   "execution_count": 40,
   "id": "e612ca7f",
   "metadata": {},
   "outputs": [],
   "source": [
    "def roots_weights(matrix):\n",
    "    if (n > 8):\n",
    "        roots, eigenvectors = np.linalg.eigh(matrix)\n",
    "        weights = np.zeros([len(eigenvectors)])\n",
    "        weights = (eigenvectors[0] ** 2) * 2\n",
    "    else:\n",
    "        roots = UL_eigen(matrix)\n",
    "        eigenvectors = eigenv (matrix)\n",
    "        weights = (eigenvectors ** 2) * 2\n",
    "    \n",
    "    return roots, weights"
   ]
  },
  {
   "cell_type": "code",
   "execution_count": 41,
   "id": "8e3d5bf1",
   "metadata": {},
   "outputs": [],
   "source": [
    "roots1, weights1 = roots_weights (matrix)"
   ]
  },
  {
   "cell_type": "code",
   "execution_count": 42,
   "id": "4fd1a615",
   "metadata": {},
   "outputs": [
    {
     "data": {
      "text/plain": [
       "array([-0.99930504, -0.99634012, -0.99101337, -0.98333625, -0.97332683,\n",
       "       -0.9610088 , -0.94641137, -0.92956917, -0.91052214, -0.88931545,\n",
       "       -0.8659994 , -0.8406293 , -0.81326532, -0.78397236, -0.75281991,\n",
       "       -0.71988185, -0.68523631, -0.64896547, -0.61115536, -0.57189565,\n",
       "       -0.53127946, -0.48940315, -0.44636602, -0.40227016, -0.35722016,\n",
       "       -0.31132287, -0.26468716, -0.21742364, -0.16964442, -0.12146282,\n",
       "       -0.07299312, -0.02435029,  0.02435029,  0.07299312,  0.12146282,\n",
       "        0.16964442,  0.21742364,  0.26468716,  0.31132287,  0.35722016,\n",
       "        0.40227016,  0.44636602,  0.48940315,  0.53127946,  0.57189565,\n",
       "        0.61115536,  0.64896547,  0.68523631,  0.71988185,  0.75281991,\n",
       "        0.78397236,  0.81326532,  0.8406293 ,  0.8659994 ,  0.88931545,\n",
       "        0.91052214,  0.92956917,  0.94641137,  0.9610088 ,  0.97332683,\n",
       "        0.98333625,  0.99101337,  0.99634012,  0.99930504])"
      ]
     },
     "execution_count": 42,
     "metadata": {},
     "output_type": "execute_result"
    }
   ],
   "source": [
    "roots1"
   ]
  },
  {
   "cell_type": "code",
   "execution_count": 66,
   "id": "6925441a-163c-4066-8d39-c923ae7cc0f2",
   "metadata": {},
   "outputs": [
    {
     "data": {
      "text/plain": [
       "0.0"
      ]
     },
     "execution_count": 66,
     "metadata": {},
     "output_type": "execute_result"
    }
   ],
   "source": [
    "np.round(np.sum(roots1),10)"
   ]
  },
  {
   "cell_type": "code",
   "execution_count": 43,
   "id": "8874977a",
   "metadata": {},
   "outputs": [
    {
     "data": {
      "text/plain": [
       "array([0.00178328, 0.00414703, 0.00650446, 0.00884676, 0.01116814,\n",
       "       0.01346305, 0.01572603, 0.01795172, 0.02013482, 0.02227017,\n",
       "       0.0243527 , 0.02637747, 0.02833967, 0.03023466, 0.03205793,\n",
       "       0.03380516, 0.03547221, 0.03705513, 0.03855015, 0.03995374,\n",
       "       0.04126256, 0.04247352, 0.04358372, 0.04459056, 0.04549163,\n",
       "       0.0462848 , 0.04696818, 0.04754017, 0.04799939, 0.04834476,\n",
       "       0.04857547, 0.04869096, 0.04869096, 0.04857547, 0.04834476,\n",
       "       0.04799939, 0.04754017, 0.04696818, 0.0462848 , 0.04549163,\n",
       "       0.04459056, 0.04358372, 0.04247352, 0.04126256, 0.03995374,\n",
       "       0.03855015, 0.03705513, 0.03547221, 0.03380516, 0.03205793,\n",
       "       0.03023466, 0.02833967, 0.02637747, 0.0243527 , 0.02227017,\n",
       "       0.02013482, 0.01795172, 0.01572603, 0.01346305, 0.01116814,\n",
       "       0.00884676, 0.00650446, 0.00414703, 0.00178328])"
      ]
     },
     "execution_count": 43,
     "metadata": {},
     "output_type": "execute_result"
    }
   ],
   "source": [
    "weights1"
   ]
  },
  {
   "cell_type": "code",
   "execution_count": 68,
   "id": "7b3ea78b-feb6-4bad-a1c7-329ba14951ae",
   "metadata": {},
   "outputs": [
    {
     "data": {
      "text/plain": [
       "2.0"
      ]
     },
     "execution_count": 68,
     "metadata": {},
     "output_type": "execute_result"
    }
   ],
   "source": [
    "np.round(np.sum(weights1),10)"
   ]
  },
  {
   "cell_type": "markdown",
   "id": "739a048b",
   "metadata": {},
   "source": [
    "#### Tabulating roots and weights for n = 1 to 64"
   ]
  },
  {
   "cell_type": "code",
   "execution_count": 44,
   "id": "dff8916f",
   "metadata": {},
   "outputs": [
    {
     "data": {
      "image/png": "[encoded data removed]",
      "text/plain": [
       "<Figure size 700x400 with 1 Axes>"
      ]
     },
     "metadata": {},
     "output_type": "display_data"
    }
   ],
   "source": [
    "plt.figure(figsize = (7,4))\n",
    "plt.plot(roots1, weights1, color = 'b')\n",
    "plt.title(f'Weights and roots for n = {n}')\n",
    "plt.xlabel('Roots')\n",
    "plt.ylabel('Weights')\n",
    "plt.show()"
   ]
  },
  {
   "cell_type": "code",
   "execution_count": 45,
   "id": "b750d27f-6cc7-40ea-8609-02f8a374d901",
   "metadata": {},
   "outputs": [
    {
     "data": {
      "image/png": "[encoded data removed]",
      "text/plain": [
       "<Figure size 700x400 with 1 Axes>"
      ]
     },
     "metadata": {},
     "output_type": "display_data"
    }
   ],
   "source": [
    "plt.figure(figsize = (7,4))\n",
    "plt.scatter(roots1, weights1, color = 'darkred')\n",
    "plt.title(f'Weights and roots for n = {n}')\n",
    "plt.xlabel('Roots')\n",
    "plt.ylabel('Weights')\n",
    "plt.show()"
   ]
  },
  {
   "cell_type": "code",
   "execution_count": 47,
   "id": "ed396fbe-4a24-42c8-8914-160571867d61",
   "metadata": {},
   "outputs": [
    {
     "data": {
      "image/png": "[encoded data removed]",
      "text/plain": [
       "<Figure size 700x400 with 1 Axes>"
      ]
     },
     "metadata": {},
     "output_type": "display_data"
    }
   ],
   "source": [
    "if (n > 30):\n",
    "    bin = int(n/5)\n",
    "else:\n",
    "    bin = int(n/2)\n",
    "\n",
    "plt.figure(figsize = (7,4))\n",
    "plt.hist(roots1, bins = bin, edgecolor = 'black', color = 'lightblue')\n",
    "plt.title(f'Roots for n = {n}')\n",
    "plt.xlabel('Roots')\n",
    "plt.ylabel('Frequency')\n",
    "plt.show()"
   ]
  },
  {
   "cell_type": "markdown",
   "id": "255049bd-5150-4d28-8576-2e268f7d7794",
   "metadata": {},
   "source": [
    "# Roots and Weights using Companion Matrix"
   ]
  },
  {
   "cell_type": "markdown",
   "id": "b09ce88b",
   "metadata": {},
   "source": [
    "#### Companion matrix for n = 64 "
   ]
  },
  {
   "cell_type": "code",
   "execution_count": 48,
   "id": "22470281-be35-4b27-a7a8-31c10e972725",
   "metadata": {},
   "outputs": [],
   "source": [
    "def Gauss_polynomial(n):\n",
    "    def P(n):\n",
    "            x = sp.symbols('x')\n",
    "            if n == 0:\n",
    "                return 1\n",
    "            elif n == 1:\n",
    "                return x\n",
    "                \n",
    "            result = ((2 * n - 1) * x * P(n-1) - (n - 1) * P(n-2)) / n\n",
    "            return sp.expand(result)\n",
    "\n",
    "    def P_above_23(n, P_23, P_24):\n",
    "            x = sp.symbols('x')\n",
    "            if n == 23:\n",
    "                return P_23\n",
    "            elif n == 24:\n",
    "                return P_24\n",
    "                \n",
    "            result = ((2 * n - 1) * x * P_above_23 (n-1,P_23, P_24) - (n - 1) * P_above_23 (n-2,P_23, P_24)) / n\n",
    "            return sp.expand(result)\n",
    "\n",
    "    def P_above_38(n, P_38, P_39):\n",
    "            x = sp.symbols('x')\n",
    "            if n == 38:\n",
    "                return P_38\n",
    "            elif n == 39:\n",
    "                return P_39\n",
    "                \n",
    "            result = ((2 * n - 1) * x * P_above_38 (n-1,P_38, P_39) - (n - 1) * P_above_38 (n-2,P_38, P_39)) / n\n",
    "            return sp.expand(result)\n",
    "        \n",
    "    def P_above_52(n, P_52, P_53):\n",
    "            x = sp.symbols('x')\n",
    "            if n == 52:\n",
    "                return P_52\n",
    "            elif n == 53:\n",
    "                return P_53\n",
    "                \n",
    "            result = ((2 * n - 1) * x * P_above_52 (n-1,P_52, P_53) - (n - 1) * P_above_52 (n-2,P_52, P_53)) / n\n",
    "            return sp.expand(result)\n",
    "\n",
    "    if (n < 24):\n",
    "        return P(n)\n",
    "    \n",
    "    elif (n > 23 and n < 39):\n",
    "        P_23 = P(23); P_24 = P(24)\n",
    "        return P_above_23(n, P_23, P_24)\n",
    "\n",
    "    elif (n > 38 and n < 52):\n",
    "        P_23 = P(23); P_24 = P(24)\n",
    "        P_38 = P_above_23 (38, P_23, P_24); P_39 = P_above_23 (39, P_23, P_24)\n",
    "        return P_above_38(n, P_38, P_39)\n",
    "        \n",
    "    elif (n > 51):\n",
    "        P_23 = P(23); P_24 = P(24)\n",
    "        P_38 = P_above_23 (38, P_23, P_24); P_39 = P_above_23 (39, P_23, P_24)\n",
    "        P_52 = P_above_38(52, P_38, P_39); P_53 = P_above_38(53, P_38, P_39)\n",
    "        return P_above_52(n, P_52, P_53)"
   ]
  },
  {
   "cell_type": "code",
   "execution_count": 49,
   "id": "498afd8b-3224-4e17-ad72-9e056b76a617",
   "metadata": {},
   "outputs": [
    {
     "data": {
      "text/latex": [
       "$\\displaystyle \\frac{11975573020964041433067793888190275875 x^{64}}{9223372036854775808} - \\frac{5940638585202634726639929251621947875 x^{62}}{288230376151711744} + \\frac{89869980516945458144608849718536827453 x^{60}}{576460752303423488} - \\frac{215541823191048050021622850950962309745 x^{58}}{288230376151711744} + \\frac{2944550692023160551121839443156534694285 x^{56}}{1152921504606846976} - \\frac{1905297506603221533078837286748345978655 x^{54}}{288230376151711744} + \\frac{7767751373074672404090644322897102836055 x^{52}}{576460752303423488} - \\frac{6397539329625475532810058616249415130813 x^{50}}{288230376151711744} + \\frac{69353855564523960422055945176155164028725 x^{48}}{2305843009213693952} - \\frac{9788682316914793212722610880718596724775 x^{46}}{288230376151711744} + \\frac{18589515959645524725078719745951830477325 x^{44}}{576460752303423488} - \\frac{7470553142661285637181167748373165518925 x^{42}}{288230376151711744} + \\frac{20419511923274180741628525178886652418395 x^{40}}{1152921504606846976} - \\frac{2973715328632162243926484249352425109475 x^{38}}{288230376151711744} + \\frac{2956890913760127379745853503952977159775 x^{36}}{576460752303423488} - \\frac{627219284736996716915787106899116367225 x^{34}}{288230376151711744} + \\frac{3627525966365517094739758422375301876425 x^{32}}{4611686018427387904} - \\frac{69630529385344290982620749903179169145 x^{30}}{288230376151711744} + \\frac{36187909537186101048315443498068026975 x^{28}}{576460752303423488} - \\frac{3955763390704553555888732690072213475 x^{26}}{288230376151711744} + \\frac{2889040678604449226210872189378582875 x^{24}}{1152921504606846976} - \\frac{109109910686210726113054286298370125 x^{22}}{288230376151711744} + \\frac{26956566169534414686754588379597325 x^{20}}{576460752303423488} - \\frac{1341473958148648190278515398670375 x^{18}}{288230376151711744} + \\frac{844631751426926638323509695459125 x^{16}}{2305843009213693952} - \\frac{6414924694381721303722858446525 x^{14}}{288230376151711744} + \\frac{583174972216520118520259858775 x^{12}}{576460752303423488} - \\frac{9503592139824772301811642143 x^{10}}{288230376151711744} + \\frac{836911245190048441451123085 x^{8}}{1152921504606846976} - \\frac{2845254354701476002990705 x^{6}}{288230376151711744} + \\frac{41235570357992405840445 x^{4}}{576460752303423488} - \\frac{59560284580634192355 x^{2}}{288230376151711744} + \\frac{916312070471295267}{9223372036854775808}$"
      ],
      "text/plain": [
       "11975573020964041433067793888190275875*x**64/9223372036854775808 - 5940638585202634726639929251621947875*x**62/288230376151711744 + 89869980516945458144608849718536827453*x**60/576460752303423488 - 215541823191048050021622850950962309745*x**58/288230376151711744 + 2944550692023160551121839443156534694285*x**56/1152921504606846976 - 1905297506603221533078837286748345978655*x**54/288230376151711744 + 7767751373074672404090644322897102836055*x**52/576460752303423488 - 6397539329625475532810058616249415130813*x**50/288230376151711744 + 69353855564523960422055945176155164028725*x**48/2305843009213693952 - 9788682316914793212722610880718596724775*x**46/288230376151711744 + 18589515959645524725078719745951830477325*x**44/576460752303423488 - 7470553142661285637181167748373165518925*x**42/288230376151711744 + 20419511923274180741628525178886652418395*x**40/1152921504606846976 - 2973715328632162243926484249352425109475*x**38/288230376151711744 + 2956890913760127379745853503952977159775*x**36/576460752303423488 - 627219284736996716915787106899116367225*x**34/288230376151711744 + 3627525966365517094739758422375301876425*x**32/4611686018427387904 - 69630529385344290982620749903179169145*x**30/288230376151711744 + 36187909537186101048315443498068026975*x**28/576460752303423488 - 3955763390704553555888732690072213475*x**26/288230376151711744 + 2889040678604449226210872189378582875*x**24/1152921504606846976 - 109109910686210726113054286298370125*x**22/288230376151711744 + 26956566169534414686754588379597325*x**20/576460752303423488 - 1341473958148648190278515398670375*x**18/288230376151711744 + 844631751426926638323509695459125*x**16/2305843009213693952 - 6414924694381721303722858446525*x**14/288230376151711744 + 583174972216520118520259858775*x**12/576460752303423488 - 9503592139824772301811642143*x**10/288230376151711744 + 836911245190048441451123085*x**8/1152921504606846976 - 2845254354701476002990705*x**6/288230376151711744 + 41235570357992405840445*x**4/576460752303423488 - 59560284580634192355*x**2/288230376151711744 + 916312070471295267/9223372036854775808"
      ]
     },
     "execution_count": 49,
     "metadata": {},
     "output_type": "execute_result"
    }
   ],
   "source": [
    "legendre_n = Gauss_polynomial(n)\n",
    "legendre_n"
   ]
  },
  {
   "cell_type": "code",
   "execution_count": 50,
   "id": "477cfe9f-1c05-4364-8fdf-8b462c49c16e",
   "metadata": {},
   "outputs": [],
   "source": [
    "def companion (n):\n",
    "    poly = sp.Poly(Gauss_polynomial (n))\n",
    "    coeffs = poly.all_coeffs()\n",
    "    degree = len(coeffs) - 1\n",
    "    coeffs = [c / coeffs[0] for c in coeffs]\n",
    "    \n",
    "    matrix = sp.zeros(degree, degree)\n",
    "    for i in range(1, degree):\n",
    "        matrix[i, i - 1] = 1\n",
    "    arr = np.array([-c for c in coeffs[1:]]).reshape(-1,1)\n",
    "    matrix[:, -1] = arr [::-1]\n",
    "    return matrix"
   ]
  },
  {
   "cell_type": "code",
   "execution_count": 51,
   "id": "fd3dfa52-9b1b-4bb8-8dce-713cd7cb3c67",
   "metadata": {
    "scrolled": true
   },
   "outputs": [
    {
     "data": {
      "text/latex": [
       "$\\displaystyle \\left[\\begin{array}{cccccccccccccccccccccccccccccccccccccccccccccccccccccccccccccccc}0 & 0 & 0 & 0 & 0 & 0 & 0 & 0 & 0 & 0 & 0 & 0 & 0 & 0 & 0 & 0 & 0 & 0 & 0 & 0 & 0 & 0 & 0 & 0 & 0 & 0 & 0 & 0 & 0 & 0 & 0 & 0 & 0 & 0 & 0 & 0 & 0 & 0 & 0 & 0 & 0 & 0 & 0 & 0 & 0 & 0 & 0 & 0 & 0 & 0 & 0 & 0 & 0 & 0 & 0 & 0 & 0 & 0 & 0 & 0 & 0 & 0 & 0 & - \\frac{1076700625791}{14071741911296502306089857301375}\\\\1 & 0 & 0 & 0 & 0 & 0 & 0 & 0 & 0 & 0 & 0 & 0 & 0 & 0 & 0 & 0 & 0 & 0 & 0 & 0 & 0 & 0 & 0 & 0 & 0 & 0 & 0 & 0 & 0 & 0 & 0 & 0 & 0 & 0 & 0 & 0 & 0 & 0 & 0 & 0 & 0 & 0 & 0 & 0 & 0 & 0 & 0 & 0 & 0 & 0 & 0 & 0 & 0 & 0 & 0 & 0 & 0 & 0 & 0 & 0 & 0 & 0 & 0 & 0\\\\0 & 1 & 0 & 0 & 0 & 0 & 0 & 0 & 0 & 0 & 0 & 0 & 0 & 0 & 0 & 0 & 0 & 0 & 0 & 0 & 0 & 0 & 0 & 0 & 0 & 0 & 0 & 0 & 0 & 0 & 0 & 0 & 0 & 0 & 0 & 0 & 0 & 0 & 0 & 0 & 0 & 0 & 0 & 0 & 0 & 0 & 0 & 0 & 0 & 0 & 0 & 0 & 0 & 0 & 0 & 0 & 0 & 0 & 0 & 0 & 0 & 0 & 0 & \\frac{34454420025312}{216488337096869266247536266175}\\\\0 & 0 & 1 & 0 & 0 & 0 & 0 & 0 & 0 & 0 & 0 & 0 & 0 & 0 & 0 & 0 & 0 & 0 & 0 & 0 & 0 & 0 & 0 & 0 & 0 & 0 & 0 & 0 & 0 & 0 & 0 & 0 & 0 & 0 & 0 & 0 & 0 & 0 & 0 & 0 & 0 & 0 & 0 & 0 & 0 & 0 & 0 & 0 & 0 & 0 & 0 & 0 & 0 & 0 & 0 & 0 & 0 & 0 & 0 & 0 & 0 & 0 & 0 & 0\\\\0 & 0 & 0 & 1 & 0 & 0 & 0 & 0 & 0 & 0 & 0 & 0 & 0 & 0 & 0 & 0 & 0 & 0 & 0 & 0 & 0 & 0 & 0 & 0 & 0 & 0 & 0 & 0 & 0 & 0 & 0 & 0 & 0 & 0 & 0 & 0 & 0 & 0 & 0 & 0 & 0 & 0 & 0 & 0 & 0 & 0 & 0 & 0 & 0 & 0 & 0 & 0 & 0 & 0 & 0 & 0 & 0 & 0 & 0 & 0 & 0 & 0 & 0 & - \\frac{178014503464112}{3231169210401033824590093525}\\\\0 & 0 & 0 & 0 & 1 & 0 & 0 & 0 & 0 & 0 & 0 & 0 & 0 & 0 & 0 & 0 & 0 & 0 & 0 & 0 & 0 & 0 & 0 & 0 & 0 & 0 & 0 & 0 & 0 & 0 & 0 & 0 & 0 & 0 & 0 & 0 & 0 & 0 & 0 & 0 & 0 & 0 & 0 & 0 & 0 & 0 & 0 & 0 & 0 & 0 & 0 & 0 & 0 & 0 & 0 & 0 & 0 & 0 & 0 & 0 & 0 & 0 & 0 & 0\\\\0 & 0 & 0 & 0 & 0 & 1 & 0 & 0 & 0 & 0 & 0 & 0 & 0 & 0 & 0 & 0 & 0 & 0 & 0 & 0 & 0 & 0 & 0 & 0 & 0 & 0 & 0 & 0 & 0 & 0 & 0 & 0 & 0 & 0 & 0 & 0 & 0 & 0 & 0 & 0 & 0 & 0 & 0 & 0 & 0 & 0 & 0 & 0 & 0 & 0 & 0 & 0 & 0 & 0 & 0 & 0 & 0 & 0 & 0 & 0 & 0 & 0 & 0 & \\frac{1068087020784672}{140485617843523209764786675}\\\\0 & 0 & 0 & 0 & 0 & 0 & 1 & 0 & 0 & 0 & 0 & 0 & 0 & 0 & 0 & 0 & 0 & 0 & 0 & 0 & 0 & 0 & 0 & 0 & 0 & 0 & 0 & 0 & 0 & 0 & 0 & 0 & 0 & 0 & 0 & 0 & 0 & 0 & 0 & 0 & 0 & 0 & 0 & 0 & 0 & 0 & 0 & 0 & 0 & 0 & 0 & 0 & 0 & 0 & 0 & 0 & 0 & 0 & 0 & 0 & 0 & 0 & 0 & 0\\\\0 & 0 & 0 & 0 & 0 & 0 & 0 & 1 & 0 & 0 & 0 & 0 & 0 & 0 & 0 & 0 & 0 & 0 & 0 & 0 & 0 & 0 & 0 & 0 & 0 & 0 & 0 & 0 & 0 & 0 & 0 & 0 & 0 & 0 & 0 & 0 & 0 & 0 & 0 & 0 & 0 & 0 & 0 & 0 & 0 & 0 & 0 & 0 & 0 & 0 & 0 & 0 & 0 & 0 & 0 & 0 & 0 & 0 & 0 & 0 & 0 & 0 & 0 & - \\frac{1106232985812696}{1978670673852439574151925}\\\\0 & 0 & 0 & 0 & 0 & 0 & 0 & 0 & 1 & 0 & 0 & 0 & 0 & 0 & 0 & 0 & 0 & 0 & 0 & 0 & 0 & 0 & 0 & 0 & 0 & 0 & 0 & 0 & 0 & 0 & 0 & 0 & 0 & 0 & 0 & 0 & 0 & 0 & 0 & 0 & 0 & 0 & 0 & 0 & 0 & 0 & 0 & 0 & 0 & 0 & 0 & 0 & 0 & 0 & 0 & 0 & 0 & 0 & 0 & 0 & 0 & 0 & 0 & 0\\\\0 & 0 & 0 & 0 & 0 & 0 & 0 & 0 & 0 & 1 & 0 & 0 & 0 & 0 & 0 & 0 & 0 & 0 & 0 & 0 & 0 & 0 & 0 & 0 & 0 & 0 & 0 & 0 & 0 & 0 & 0 & 0 & 0 & 0 & 0 & 0 & 0 & 0 & 0 & 0 & 0 & 0 & 0 & 0 & 0 & 0 & 0 & 0 & 0 & 0 & 0 & 0 & 0 & 0 & 0 & 0 & 0 & 0 & 0 & 0 & 0 & 0 & 0 & \\frac{10324841200918496}{406576165860090323455875}\\\\0 & 0 & 0 & 0 & 0 & 0 & 0 & 0 & 0 & 0 & 1 & 0 & 0 & 0 & 0 & 0 & 0 & 0 & 0 & 0 & 0 & 0 & 0 & 0 & 0 & 0 & 0 & 0 & 0 & 0 & 0 & 0 & 0 & 0 & 0 & 0 & 0 & 0 & 0 & 0 & 0 & 0 & 0 & 0 & 0 & 0 & 0 & 0 & 0 & 0 & 0 & 0 & 0 & 0 & 0 & 0 & 0 & 0 & 0 & 0 & 0 & 0 & 0 & 0\\\\0 & 0 & 0 & 0 & 0 & 0 & 0 & 0 & 0 & 0 & 0 & 1 & 0 & 0 & 0 & 0 & 0 & 0 & 0 & 0 & 0 & 0 & 0 & 0 & 0 & 0 & 0 & 0 & 0 & 0 & 0 & 0 & 0 & 0 & 0 & 0 & 0 & 0 & 0 & 0 & 0 & 0 & 0 & 0 & 0 & 0 & 0 & 0 & 0 & 0 & 0 & 0 & 0 & 0 & 0 & 0 & 0 & 0 & 0 & 0 & 0 & 0 & 0 & - \\frac{46461785404133232}{59631170992813247440195}\\\\0 & 0 & 0 & 0 & 0 & 0 & 0 & 0 & 0 & 0 & 0 & 0 & 1 & 0 & 0 & 0 & 0 & 0 & 0 & 0 & 0 & 0 & 0 & 0 & 0 & 0 & 0 & 0 & 0 & 0 & 0 & 0 & 0 & 0 & 0 & 0 & 0 & 0 & 0 & 0 & 0 & 0 & 0 & 0 & 0 & 0 & 0 & 0 & 0 & 0 & 0 & 0 & 0 & 0 & 0 & 0 & 0 & 0 & 0 & 0 & 0 & 0 & 0 & 0\\\\0 & 0 & 0 & 0 & 0 & 0 & 0 & 0 & 0 & 0 & 0 & 0 & 0 & 1 & 0 & 0 & 0 & 0 & 0 & 0 & 0 & 0 & 0 & 0 & 0 & 0 & 0 & 0 & 0 & 0 & 0 & 0 & 0 & 0 & 0 & 0 & 0 & 0 & 0 & 0 & 0 & 0 & 0 & 0 & 0 & 0 & 0 & 0 & 0 & 0 & 0 & 0 & 0 & 0 & 0 & 0 & 0 & 0 & 0 & 0 & 0 & 0 & 0 & \\frac{92923570808266464}{5421015544801204312745}\\\\0 & 0 & 0 & 0 & 0 & 0 & 0 & 0 & 0 & 0 & 0 & 0 & 0 & 0 & 1 & 0 & 0 & 0 & 0 & 0 & 0 & 0 & 0 & 0 & 0 & 0 & 0 & 0 & 0 & 0 & 0 & 0 & 0 & 0 & 0 & 0 & 0 & 0 & 0 & 0 & 0 & 0 & 0 & 0 & 0 & 0 & 0 & 0 & 0 & 0 & 0 & 0 & 0 & 0 & 0 & 0 & 0 & 0 & 0 & 0 & 0 & 0 & 0 & 0\\\\0 & 0 & 0 & 0 & 0 & 0 & 0 & 0 & 0 & 0 & 0 & 0 & 0 & 0 & 0 & 1 & 0 & 0 & 0 & 0 & 0 & 0 & 0 & 0 & 0 & 0 & 0 & 0 & 0 & 0 & 0 & 0 & 0 & 0 & 0 & 0 & 0 & 0 & 0 & 0 & 0 & 0 & 0 & 0 & 0 & 0 & 0 & 0 & 0 & 0 & 0 & 0 & 0 & 0 & 0 & 0 & 0 & 0 & 0 & 0 & 0 & 0 & 0 & - \\frac{3871815450344436}{13724089986838491931}\\\\0 & 0 & 0 & 0 & 0 & 0 & 0 & 0 & 0 & 0 & 0 & 0 & 0 & 0 & 0 & 0 & 1 & 0 & 0 & 0 & 0 & 0 & 0 & 0 & 0 & 0 & 0 & 0 & 0 & 0 & 0 & 0 & 0 & 0 & 0 & 0 & 0 & 0 & 0 & 0 & 0 & 0 & 0 & 0 & 0 & 0 & 0 & 0 & 0 & 0 & 0 & 0 & 0 & 0 & 0 & 0 & 0 & 0 & 0 & 0 & 0 & 0 & 0 & 0\\\\0 & 0 & 0 & 0 & 0 & 0 & 0 & 0 & 0 & 0 & 0 & 0 & 0 & 0 & 0 & 0 & 0 & 1 & 0 & 0 & 0 & 0 & 0 & 0 & 0 & 0 & 0 & 0 & 0 & 0 & 0 & 0 & 0 & 0 & 0 & 0 & 0 & 0 & 0 & 0 & 0 & 0 & 0 & 0 & 0 & 0 & 0 & 0 & 0 & 0 & 0 & 0 & 0 & 0 & 0 & 0 & 0 & 0 & 0 & 0 & 0 & 0 & 0 & \\frac{836312137274398176}{233309529776254362827}\\\\0 & 0 & 0 & 0 & 0 & 0 & 0 & 0 & 0 & 0 & 0 & 0 & 0 & 0 & 0 & 0 & 0 & 0 & 1 & 0 & 0 & 0 & 0 & 0 & 0 & 0 & 0 & 0 & 0 & 0 & 0 & 0 & 0 & 0 & 0 & 0 & 0 & 0 & 0 & 0 & 0 & 0 & 0 & 0 & 0 & 0 & 0 & 0 & 0 & 0 & 0 & 0 & 0 & 0 & 0 & 0 & 0 & 0 & 0 & 0 & 0 & 0 & 0 & 0\\\\0 & 0 & 0 & 0 & 0 & 0 & 0 & 0 & 0 & 0 & 0 & 0 & 0 & 0 & 0 & 0 & 0 & 0 & 0 & 1 & 0 & 0 & 0 & 0 & 0 & 0 & 0 & 0 & 0 & 0 & 0 & 0 & 0 & 0 & 0 & 0 & 0 & 0 & 0 & 0 & 0 & 0 & 0 & 0 & 0 & 0 & 0 & 0 & 0 & 0 & 0 & 0 & 0 & 0 & 0 & 0 & 0 & 0 & 0 & 0 & 0 & 0 & 0 & - \\frac{506188925192398896}{14054790950376768845}\\\\0 & 0 & 0 & 0 & 0 & 0 & 0 & 0 & 0 & 0 & 0 & 0 & 0 & 0 & 0 & 0 & 0 & 0 & 0 & 0 & 1 & 0 & 0 & 0 & 0 & 0 & 0 & 0 & 0 & 0 & 0 & 0 & 0 & 0 & 0 & 0 & 0 & 0 & 0 & 0 & 0 & 0 & 0 & 0 & 0 & 0 & 0 & 0 & 0 & 0 & 0 & 0 & 0 & 0 & 0 & 0 & 0 & 0 & 0 & 0 & 0 & 0 & 0 & 0\\\\0 & 0 & 0 & 0 & 0 & 0 & 0 & 0 & 0 & 0 & 0 & 0 & 0 & 0 & 0 & 0 & 0 & 0 & 0 & 0 & 0 & 1 & 0 & 0 & 0 & 0 & 0 & 0 & 0 & 0 & 0 & 0 & 0 & 0 & 0 & 0 & 0 & 0 & 0 & 0 & 0 & 0 & 0 & 0 & 0 & 0 & 0 & 0 & 0 & 0 & 0 & 0 & 0 & 0 & 0 & 0 & 0 & 0 & 0 & 0 & 0 & 0 & 0 & \\frac{48208469065942752}{165350481769138457}\\\\0 & 0 & 0 & 0 & 0 & 0 & 0 & 0 & 0 & 0 & 0 & 0 & 0 & 0 & 0 & 0 & 0 & 0 & 0 & 0 & 0 & 0 & 1 & 0 & 0 & 0 & 0 & 0 & 0 & 0 & 0 & 0 & 0 & 0 & 0 & 0 & 0 & 0 & 0 & 0 & 0 & 0 & 0 & 0 & 0 & 0 & 0 & 0 & 0 & 0 & 0 & 0 & 0 & 0 & 0 & 0 & 0 & 0 & 0 & 0 & 0 & 0 & 0 & 0\\\\0 & 0 & 0 & 0 & 0 & 0 & 0 & 0 & 0 & 0 & 0 & 0 & 0 & 0 & 0 & 0 & 0 & 0 & 0 & 0 & 0 & 0 & 0 & 1 & 0 & 0 & 0 & 0 & 0 & 0 & 0 & 0 & 0 & 0 & 0 & 0 & 0 & 0 & 0 & 0 & 0 & 0 & 0 & 0 & 0 & 0 & 0 & 0 & 0 & 0 & 0 & 0 & 0 & 0 & 0 & 0 & 0 & 0 & 0 & 0 & 0 & 0 & 0 & - \\frac{319119105012599304}{165350481769138457}\\\\0 & 0 & 0 & 0 & 0 & 0 & 0 & 0 & 0 & 0 & 0 & 0 & 0 & 0 & 0 & 0 & 0 & 0 & 0 & 0 & 0 & 0 & 0 & 0 & 1 & 0 & 0 & 0 & 0 & 0 & 0 & 0 & 0 & 0 & 0 & 0 & 0 & 0 & 0 & 0 & 0 & 0 & 0 & 0 & 0 & 0 & 0 & 0 & 0 & 0 & 0 & 0 & 0 & 0 & 0 & 0 & 0 & 0 & 0 & 0 & 0 & 0 & 0 & 0\\\\0 & 0 & 0 & 0 & 0 & 0 & 0 & 0 & 0 & 0 & 0 & 0 & 0 & 0 & 0 & 0 & 0 & 0 & 0 & 0 & 0 & 0 & 0 & 0 & 0 & 1 & 0 & 0 & 0 & 0 & 0 & 0 & 0 & 0 & 0 & 0 & 0 & 0 & 0 & 0 & 0 & 0 & 0 & 0 & 0 & 0 & 0 & 0 & 0 & 0 & 0 & 0 & 0 & 0 & 0 & 0 & 0 & 0 & 0 & 0 & 0 & 0 & 0 & \\frac{1276476420050397216}{120761587808921345}\\\\0 & 0 & 0 & 0 & 0 & 0 & 0 & 0 & 0 & 0 & 0 & 0 & 0 & 0 & 0 & 0 & 0 & 0 & 0 & 0 & 0 & 0 & 0 & 0 & 0 & 0 & 1 & 0 & 0 & 0 & 0 & 0 & 0 & 0 & 0 & 0 & 0 & 0 & 0 & 0 & 0 & 0 & 0 & 0 & 0 & 0 & 0 & 0 & 0 & 0 & 0 & 0 & 0 & 0 & 0 & 0 & 0 & 0 & 0 & 0 & 0 & 0 & 0 & 0\\\\0 & 0 & 0 & 0 & 0 & 0 & 0 & 0 & 0 & 0 & 0 & 0 & 0 & 0 & 0 & 0 & 0 & 0 & 0 & 0 & 0 & 0 & 0 & 0 & 0 & 0 & 0 & 1 & 0 & 0 & 0 & 0 & 0 & 0 & 0 & 0 & 0 & 0 & 0 & 0 & 0 & 0 & 0 & 0 & 0 & 0 & 0 & 0 & 0 & 0 & 0 & 0 & 0 & 0 & 0 & 0 & 0 & 0 & 0 & 0 & 0 & 0 & 0 & - \\frac{449130592239954576}{9289352908378565}\\\\0 & 0 & 0 & 0 & 0 & 0 & 0 & 0 & 0 & 0 & 0 & 0 & 0 & 0 & 0 & 0 & 0 & 0 & 0 & 0 & 0 & 0 & 0 & 0 & 0 & 0 & 0 & 0 & 1 & 0 & 0 & 0 & 0 & 0 & 0 & 0 & 0 & 0 & 0 & 0 & 0 & 0 & 0 & 0 & 0 & 0 & 0 & 0 & 0 & 0 & 0 & 0 & 0 & 0 & 0 & 0 & 0 & 0 & 0 & 0 & 0 & 0 & 0 & 0\\\\0 & 0 & 0 & 0 & 0 & 0 & 0 & 0 & 0 & 0 & 0 & 0 & 0 & 0 & 0 & 0 & 0 & 0 & 0 & 0 & 0 & 0 & 0 & 0 & 0 & 0 & 0 & 0 & 0 & 1 & 0 & 0 & 0 & 0 & 0 & 0 & 0 & 0 & 0 & 0 & 0 & 0 & 0 & 0 & 0 & 0 & 0 & 0 & 0 & 0 & 0 & 0 & 0 & 0 & 0 & 0 & 0 & 0 & 0 & 0 & 0 & 0 & 0 & \\frac{8641892085168781152}{46446764541892825}\\\\0 & 0 & 0 & 0 & 0 & 0 & 0 & 0 & 0 & 0 & 0 & 0 & 0 & 0 & 0 & 0 & 0 & 0 & 0 & 0 & 0 & 0 & 0 & 0 & 0 & 0 & 0 & 0 & 0 & 0 & 1 & 0 & 0 & 0 & 0 & 0 & 0 & 0 & 0 & 0 & 0 & 0 & 0 & 0 & 0 & 0 & 0 & 0 & 0 & 0 & 0 & 0 & 0 & 0 & 0 & 0 & 0 & 0 & 0 & 0 & 0 & 0 & 0 & 0\\\\0 & 0 & 0 & 0 & 0 & 0 & 0 & 0 & 0 & 0 & 0 & 0 & 0 & 0 & 0 & 0 & 0 & 0 & 0 & 0 & 0 & 0 & 0 & 0 & 0 & 0 & 0 & 0 & 0 & 0 & 0 & 1 & 0 & 0 & 0 & 0 & 0 & 0 & 0 & 0 & 0 & 0 & 0 & 0 & 0 & 0 & 0 & 0 & 0 & 0 & 0 & 0 & 0 & 0 & 0 & 0 & 0 & 0 & 0 & 0 & 0 & 0 & 0 & - \\frac{5627683757075637726}{9289352908378565}\\\\0 & 0 & 0 & 0 & 0 & 0 & 0 & 0 & 0 & 0 & 0 & 0 & 0 & 0 & 0 & 0 & 0 & 0 & 0 & 0 & 0 & 0 & 0 & 0 & 0 & 0 & 0 & 0 & 0 & 0 & 0 & 0 & 1 & 0 & 0 & 0 & 0 & 0 & 0 & 0 & 0 & 0 & 0 & 0 & 0 & 0 & 0 & 0 & 0 & 0 & 0 & 0 & 0 & 0 & 0 & 0 & 0 & 0 & 0 & 0 & 0 & 0 & 0 & 0\\\\0 & 0 & 0 & 0 & 0 & 0 & 0 & 0 & 0 & 0 & 0 & 0 & 0 & 0 & 0 & 0 & 0 & 0 & 0 & 0 & 0 & 0 & 0 & 0 & 0 & 0 & 0 & 0 & 0 & 0 & 0 & 0 & 0 & 1 & 0 & 0 & 0 & 0 & 0 & 0 & 0 & 0 & 0 & 0 & 0 & 0 & 0 & 0 & 0 & 0 & 0 & 0 & 0 & 0 & 0 & 0 & 0 & 0 & 0 & 0 & 0 & 0 & 0 & \\frac{1765547845357062816}{1053431773115095}\\\\0 & 0 & 0 & 0 & 0 & 0 & 0 & 0 & 0 & 0 & 0 & 0 & 0 & 0 & 0 & 0 & 0 & 0 & 0 & 0 & 0 & 0 & 0 & 0 & 0 & 0 & 0 & 0 & 0 & 0 & 0 & 0 & 0 & 0 & 1 & 0 & 0 & 0 & 0 & 0 & 0 & 0 & 0 & 0 & 0 & 0 & 0 & 0 & 0 & 0 & 0 & 0 & 0 & 0 & 0 & 0 & 0 & 0 & 0 & 0 & 0 & 0 & 0 & 0\\\\0 & 0 & 0 & 0 & 0 & 0 & 0 & 0 & 0 & 0 & 0 & 0 & 0 & 0 & 0 & 0 & 0 & 0 & 0 & 0 & 0 & 0 & 0 & 0 & 0 & 0 & 0 & 0 & 0 & 0 & 0 & 0 & 0 & 0 & 0 & 1 & 0 & 0 & 0 & 0 & 0 & 0 & 0 & 0 & 0 & 0 & 0 & 0 & 0 & 0 & 0 & 0 & 0 & 0 & 0 & 0 & 0 & 0 & 0 & 0 & 0 & 0 & 0 & - \\frac{378331681147942032}{95766524828645}\\\\0 & 0 & 0 & 0 & 0 & 0 & 0 & 0 & 0 & 0 & 0 & 0 & 0 & 0 & 0 & 0 & 0 & 0 & 0 & 0 & 0 & 0 & 0 & 0 & 0 & 0 & 0 & 0 & 0 & 0 & 0 & 0 & 0 & 0 & 0 & 0 & 1 & 0 & 0 & 0 & 0 & 0 & 0 & 0 & 0 & 0 & 0 & 0 & 0 & 0 & 0 & 0 & 0 & 0 & 0 & 0 & 0 & 0 & 0 & 0 & 0 & 0 & 0 & 0\\\\0 & 0 & 0 & 0 & 0 & 0 & 0 & 0 & 0 & 0 & 0 & 0 & 0 & 0 & 0 & 0 & 0 & 0 & 0 & 0 & 0 & 0 & 0 & 0 & 0 & 0 & 0 & 0 & 0 & 0 & 0 & 0 & 0 & 0 & 0 & 0 & 0 & 1 & 0 & 0 & 0 & 0 & 0 & 0 & 0 & 0 & 0 & 0 & 0 & 0 & 0 & 0 & 0 & 0 & 0 & 0 & 0 & 0 & 0 & 0 & 0 & 0 & 0 & \\frac{278770712424799392}{35082786323365}\\\\0 & 0 & 0 & 0 & 0 & 0 & 0 & 0 & 0 & 0 & 0 & 0 & 0 & 0 & 0 & 0 & 0 & 0 & 0 & 0 & 0 & 0 & 0 & 0 & 0 & 0 & 0 & 0 & 0 & 0 & 0 & 0 & 0 & 0 & 0 & 0 & 0 & 0 & 1 & 0 & 0 & 0 & 0 & 0 & 0 & 0 & 0 & 0 & 0 & 0 & 0 & 0 & 0 & 0 & 0 & 0 & 0 & 0 & 0 & 0 & 0 & 0 & 0 & 0\\\\0 & 0 & 0 & 0 & 0 & 0 & 0 & 0 & 0 & 0 & 0 & 0 & 0 & 0 & 0 & 0 & 0 & 0 & 0 & 0 & 0 & 0 & 0 & 0 & 0 & 0 & 0 & 0 & 0 & 0 & 0 & 0 & 0 & 0 & 0 & 0 & 0 & 0 & 0 & 1 & 0 & 0 & 0 & 0 & 0 & 0 & 0 & 0 & 0 & 0 & 0 & 0 & 0 & 0 & 0 & 0 & 0 & 0 & 0 & 0 & 0 & 0 & 0 & - \\frac{23230892702066616}{1703047879775}\\\\0 & 0 & 0 & 0 & 0 & 0 & 0 & 0 & 0 & 0 & 0 & 0 & 0 & 0 & 0 & 0 & 0 & 0 & 0 & 0 & 0 & 0 & 0 & 0 & 0 & 0 & 0 & 0 & 0 & 0 & 0 & 0 & 0 & 0 & 0 & 0 & 0 & 0 & 0 & 0 & 1 & 0 & 0 & 0 & 0 & 0 & 0 & 0 & 0 & 0 & 0 & 0 & 0 & 0 & 0 & 0 & 0 & 0 & 0 & 0 & 0 & 0 & 0 & 0\\\\0 & 0 & 0 & 0 & 0 & 0 & 0 & 0 & 0 & 0 & 0 & 0 & 0 & 0 & 0 & 0 & 0 & 0 & 0 & 0 & 0 & 0 & 0 & 0 & 0 & 0 & 0 & 0 & 0 & 0 & 0 & 0 & 0 & 0 & 0 & 0 & 0 & 0 & 0 & 0 & 0 & 1 & 0 & 0 & 0 & 0 & 0 & 0 & 0 & 0 & 0 & 0 & 0 & 0 & 0 & 0 & 0 & 0 & 0 & 0 & 0 & 0 & 0 & \\frac{278770712424799392}{13964992614155}\\\\0 & 0 & 0 & 0 & 0 & 0 & 0 & 0 & 0 & 0 & 0 & 0 & 0 & 0 & 0 & 0 & 0 & 0 & 0 & 0 & 0 & 0 & 0 & 0 & 0 & 0 & 0 & 0 & 0 & 0 & 0 & 0 & 0 & 0 & 0 & 0 & 0 & 0 & 0 & 0 & 0 & 0 & 1 & 0 & 0 & 0 & 0 & 0 & 0 & 0 & 0 & 0 & 0 & 0 & 0 & 0 & 0 & 0 & 0 & 0 & 0 & 0 & 0 & 0\\\\0 & 0 & 0 & 0 & 0 & 0 & 0 & 0 & 0 & 0 & 0 & 0 & 0 & 0 & 0 & 0 & 0 & 0 & 0 & 0 & 0 & 0 & 0 & 0 & 0 & 0 & 0 & 0 & 0 & 0 & 0 & 0 & 0 & 0 & 0 & 0 & 0 & 0 & 0 & 0 & 0 & 0 & 0 & 1 & 0 & 0 & 0 & 0 & 0 & 0 & 0 & 0 & 0 & 0 & 0 & 0 & 0 & 0 & 0 & 0 & 0 & 0 & 0 & - \\frac{3241519911916272}{130513949665}\\\\0 & 0 & 0 & 0 & 0 & 0 & 0 & 0 & 0 & 0 & 0 & 0 & 0 & 0 & 0 & 0 & 0 & 0 & 0 & 0 & 0 & 0 & 0 & 0 & 0 & 0 & 0 & 0 & 0 & 0 & 0 & 0 & 0 & 0 & 0 & 0 & 0 & 0 & 0 & 0 & 0 & 0 & 0 & 0 & 1 & 0 & 0 & 0 & 0 & 0 & 0 & 0 & 0 & 0 & 0 & 0 & 0 & 0 & 0 & 0 & 0 & 0 & 0 & 0\\\\0 & 0 & 0 & 0 & 0 & 0 & 0 & 0 & 0 & 0 & 0 & 0 & 0 & 0 & 0 & 0 & 0 & 0 & 0 & 0 & 0 & 0 & 0 & 0 & 0 & 0 & 0 & 0 & 0 & 0 & 0 & 0 & 0 & 0 & 0 & 0 & 0 & 0 & 0 & 0 & 0 & 0 & 0 & 0 & 0 & 1 & 0 & 0 & 0 & 0 & 0 & 0 & 0 & 0 & 0 & 0 & 0 & 0 & 0 & 0 & 0 & 0 & 0 & \\frac{720337758203616}{27539640755}\\\\0 & 0 & 0 & 0 & 0 & 0 & 0 & 0 & 0 & 0 & 0 & 0 & 0 & 0 & 0 & 0 & 0 & 0 & 0 & 0 & 0 & 0 & 0 & 0 & 0 & 0 & 0 & 0 & 0 & 0 & 0 & 0 & 0 & 0 & 0 & 0 & 0 & 0 & 0 & 0 & 0 & 0 & 0 & 0 & 0 & 0 & 1 & 0 & 0 & 0 & 0 & 0 & 0 & 0 & 0 & 0 & 0 & 0 & 0 & 0 & 0 & 0 & 0 & 0\\\\0 & 0 & 0 & 0 & 0 & 0 & 0 & 0 & 0 & 0 & 0 & 0 & 0 & 0 & 0 & 0 & 0 & 0 & 0 & 0 & 0 & 0 & 0 & 0 & 0 & 0 & 0 & 0 & 0 & 0 & 0 & 0 & 0 & 0 & 0 & 0 & 0 & 0 & 0 & 0 & 0 & 0 & 0 & 0 & 0 & 0 & 0 & 1 & 0 & 0 & 0 & 0 & 0 & 0 & 0 & 0 & 0 & 0 & 0 & 0 & 0 & 0 & 0 & - \\frac{17242127191044}{744314615}\\\\0 & 0 & 0 & 0 & 0 & 0 & 0 & 0 & 0 & 0 & 0 & 0 & 0 & 0 & 0 & 0 & 0 & 0 & 0 & 0 & 0 & 0 & 0 & 0 & 0 & 0 & 0 & 0 & 0 & 0 & 0 & 0 & 0 & 0 & 0 & 0 & 0 & 0 & 0 & 0 & 0 & 0 & 0 & 0 & 0 & 0 & 0 & 0 & 1 & 0 & 0 & 0 & 0 & 0 & 0 & 0 & 0 & 0 & 0 & 0 & 0 & 0 & 0 & 0\\\\0 & 0 & 0 & 0 & 0 & 0 & 0 & 0 & 0 & 0 & 0 & 0 & 0 & 0 & 0 & 0 & 0 & 0 & 0 & 0 & 0 & 0 & 0 & 0 & 0 & 0 & 0 & 0 & 0 & 0 & 0 & 0 & 0 & 0 & 0 & 0 & 0 & 0 & 0 & 0 & 0 & 0 & 0 & 0 & 0 & 0 & 0 & 0 & 0 & 1 & 0 & 0 & 0 & 0 & 0 & 0 & 0 & 0 & 0 & 0 & 0 & 0 & 0 & \\frac{2815041174048}{164671375}\\\\0 & 0 & 0 & 0 & 0 & 0 & 0 & 0 & 0 & 0 & 0 & 0 & 0 & 0 & 0 & 0 & 0 & 0 & 0 & 0 & 0 & 0 & 0 & 0 & 0 & 0 & 0 & 0 & 0 & 0 & 0 & 0 & 0 & 0 & 0 & 0 & 0 & 0 & 0 & 0 & 0 & 0 & 0 & 0 & 0 & 0 & 0 & 0 & 0 & 0 & 1 & 0 & 0 & 0 & 0 & 0 & 0 & 0 & 0 & 0 & 0 & 0 & 0 & 0\\\\0 & 0 & 0 & 0 & 0 & 0 & 0 & 0 & 0 & 0 & 0 & 0 & 0 & 0 & 0 & 0 & 0 & 0 & 0 & 0 & 0 & 0 & 0 & 0 & 0 & 0 & 0 & 0 & 0 & 0 & 0 & 0 & 0 & 0 & 0 & 0 & 0 & 0 & 0 & 0 & 0 & 0 & 0 & 0 & 0 & 0 & 0 & 0 & 0 & 0 & 0 & 1 & 0 & 0 & 0 & 0 & 0 & 0 & 0 & 0 & 0 & 0 & 0 & - \\frac{3284214703056}{316455425}\\\\0 & 0 & 0 & 0 & 0 & 0 & 0 & 0 & 0 & 0 & 0 & 0 & 0 & 0 & 0 & 0 & 0 & 0 & 0 & 0 & 0 & 0 & 0 & 0 & 0 & 0 & 0 & 0 & 0 & 0 & 0 & 0 & 0 & 0 & 0 & 0 & 0 & 0 & 0 & 0 & 0 & 0 & 0 & 0 & 0 & 0 & 0 & 0 & 0 & 0 & 0 & 0 & 1 & 0 & 0 & 0 & 0 & 0 & 0 & 0 & 0 & 0 & 0 & 0\\\\0 & 0 & 0 & 0 & 0 & 0 & 0 & 0 & 0 & 0 & 0 & 0 & 0 & 0 & 0 & 0 & 0 & 0 & 0 & 0 & 0 & 0 & 0 & 0 & 0 & 0 & 0 & 0 & 0 & 0 & 0 & 0 & 0 & 0 & 0 & 0 & 0 & 0 & 0 & 0 & 0 & 0 & 0 & 0 & 0 & 0 & 0 & 0 & 0 & 0 & 0 & 0 & 0 & 1 & 0 & 0 & 0 & 0 & 0 & 0 & 0 & 0 & 0 & \\frac{123932630304}{24342725}\\\\0 & 0 & 0 & 0 & 0 & 0 & 0 & 0 & 0 & 0 & 0 & 0 & 0 & 0 & 0 & 0 & 0 & 0 & 0 & 0 & 0 & 0 & 0 & 0 & 0 & 0 & 0 & 0 & 0 & 0 & 0 & 0 & 0 & 0 & 0 & 0 & 0 & 0 & 0 & 0 & 0 & 0 & 0 & 0 & 0 & 0 & 0 & 0 & 0 & 0 & 0 & 0 & 0 & 0 & 1 & 0 & 0 & 0 & 0 & 0 & 0 & 0 & 0 & 0\\\\0 & 0 & 0 & 0 & 0 & 0 & 0 & 0 & 0 & 0 & 0 & 0 & 0 & 0 & 0 & 0 & 0 & 0 & 0 & 0 & 0 & 0 & 0 & 0 & 0 & 0 & 0 & 0 & 0 & 0 & 0 & 0 & 0 & 0 & 0 & 0 & 0 & 0 & 0 & 0 & 0 & 0 & 0 & 0 & 0 & 0 & 0 & 0 & 0 & 0 & 0 & 0 & 0 & 0 & 0 & 1 & 0 & 0 & 0 & 0 & 0 & 0 & 0 & - \\frac{30983157576}{15751175}\\\\0 & 0 & 0 & 0 & 0 & 0 & 0 & 0 & 0 & 0 & 0 & 0 & 0 & 0 & 0 & 0 & 0 & 0 & 0 & 0 & 0 & 0 & 0 & 0 & 0 & 0 & 0 & 0 & 0 & 0 & 0 & 0 & 0 & 0 & 0 & 0 & 0 & 0 & 0 & 0 & 0 & 0 & 0 & 0 & 0 & 0 & 0 & 0 & 0 & 0 & 0 & 0 & 0 & 0 & 0 & 0 & 1 & 0 & 0 & 0 & 0 & 0 & 0 & 0\\\\0 & 0 & 0 & 0 & 0 & 0 & 0 & 0 & 0 & 0 & 0 & 0 & 0 & 0 & 0 & 0 & 0 & 0 & 0 & 0 & 0 & 0 & 0 & 0 & 0 & 0 & 0 & 0 & 0 & 0 & 0 & 0 & 0 & 0 & 0 & 0 & 0 & 0 & 0 & 0 & 0 & 0 & 0 & 0 & 0 & 0 & 0 & 0 & 0 & 0 & 0 & 0 & 0 & 0 & 0 & 0 & 0 & 1 & 0 & 0 & 0 & 0 & 0 & \\frac{74974368}{130175}\\\\0 & 0 & 0 & 0 & 0 & 0 & 0 & 0 & 0 & 0 & 0 & 0 & 0 & 0 & 0 & 0 & 0 & 0 & 0 & 0 & 0 & 0 & 0 & 0 & 0 & 0 & 0 & 0 & 0 & 0 & 0 & 0 & 0 & 0 & 0 & 0 & 0 & 0 & 0 & 0 & 0 & 0 & 0 & 0 & 0 & 0 & 0 & 0 & 0 & 0 & 0 & 0 & 0 & 0 & 0 & 0 & 0 & 0 & 1 & 0 & 0 & 0 & 0 & 0\\\\0 & 0 & 0 & 0 & 0 & 0 & 0 & 0 & 0 & 0 & 0 & 0 & 0 & 0 & 0 & 0 & 0 & 0 & 0 & 0 & 0 & 0 & 0 & 0 & 0 & 0 & 0 & 0 & 0 & 0 & 0 & 0 & 0 & 0 & 0 & 0 & 0 & 0 & 0 & 0 & 0 & 0 & 0 & 0 & 0 & 0 & 0 & 0 & 0 & 0 & 0 & 0 & 0 & 0 & 0 & 0 & 0 & 0 & 0 & 1 & 0 & 0 & 0 & - \\frac{1906128}{15875}\\\\0 & 0 & 0 & 0 & 0 & 0 & 0 & 0 & 0 & 0 & 0 & 0 & 0 & 0 & 0 & 0 & 0 & 0 & 0 & 0 & 0 & 0 & 0 & 0 & 0 & 0 & 0 & 0 & 0 & 0 & 0 & 0 & 0 & 0 & 0 & 0 & 0 & 0 & 0 & 0 & 0 & 0 & 0 & 0 & 0 & 0 & 0 & 0 & 0 & 0 & 0 & 0 & 0 & 0 & 0 & 0 & 0 & 0 & 0 & 0 & 1 & 0 & 0 & 0\\\\0 & 0 & 0 & 0 & 0 & 0 & 0 & 0 & 0 & 0 & 0 & 0 & 0 & 0 & 0 & 0 & 0 & 0 & 0 & 0 & 0 & 0 & 0 & 0 & 0 & 0 & 0 & 0 & 0 & 0 & 0 & 0 & 0 & 0 & 0 & 0 & 0 & 0 & 0 & 0 & 0 & 0 & 0 & 0 & 0 & 0 & 0 & 0 & 0 & 0 & 0 & 0 & 0 & 0 & 0 & 0 & 0 & 0 & 0 & 0 & 0 & 1 & 0 & \\frac{2016}{127}\\\\0 & 0 & 0 & 0 & 0 & 0 & 0 & 0 & 0 & 0 & 0 & 0 & 0 & 0 & 0 & 0 & 0 & 0 & 0 & 0 & 0 & 0 & 0 & 0 & 0 & 0 & 0 & 0 & 0 & 0 & 0 & 0 & 0 & 0 & 0 & 0 & 0 & 0 & 0 & 0 & 0 & 0 & 0 & 0 & 0 & 0 & 0 & 0 & 0 & 0 & 0 & 0 & 0 & 0 & 0 & 0 & 0 & 0 & 0 & 0 & 0 & 0 & 1 & 0\\end{array}\\right]$"
      ],
      "text/plain": [
       "Matrix([\n",
       "[0, 0, 0, 0, 0, 0, 0, 0, 0, 0, 0, 0, 0, 0, 0, 0, 0, 0, 0, 0, 0, 0, 0, 0, 0, 0, 0, 0, 0, 0, 0, 0, 0, 0, 0, 0, 0, 0, 0, 0, 0, 0, 0, 0, 0, 0, 0, 0, 0, 0, 0, 0, 0, 0, 0, 0, 0, 0, 0, 0, 0, 0, 0, -1076700625791/14071741911296502306089857301375],\n",
       "[1, 0, 0, 0, 0, 0, 0, 0, 0, 0, 0, 0, 0, 0, 0, 0, 0, 0, 0, 0, 0, 0, 0, 0, 0, 0, 0, 0, 0, 0, 0, 0, 0, 0, 0, 0, 0, 0, 0, 0, 0, 0, 0, 0, 0, 0, 0, 0, 0, 0, 0, 0, 0, 0, 0, 0, 0, 0, 0, 0, 0, 0, 0,                                               0],\n",
       "[0, 1, 0, 0, 0, 0, 0, 0, 0, 0, 0, 0, 0, 0, 0, 0, 0, 0, 0, 0, 0, 0, 0, 0, 0, 0, 0, 0, 0, 0, 0, 0, 0, 0, 0, 0, 0, 0, 0, 0, 0, 0, 0, 0, 0, 0, 0, 0, 0, 0, 0, 0, 0, 0, 0, 0, 0, 0, 0, 0, 0, 0, 0,   34454420025312/216488337096869266247536266175],\n",
       "[0, 0, 1, 0, 0, 0, 0, 0, 0, 0, 0, 0, 0, 0, 0, 0, 0, 0, 0, 0, 0, 0, 0, 0, 0, 0, 0, 0, 0, 0, 0, 0, 0, 0, 0, 0, 0, 0, 0, 0, 0, 0, 0, 0, 0, 0, 0, 0, 0, 0, 0, 0, 0, 0, 0, 0, 0, 0, 0, 0, 0, 0, 0,                                               0],\n",
       "[0, 0, 0, 1, 0, 0, 0, 0, 0, 0, 0, 0, 0, 0, 0, 0, 0, 0, 0, 0, 0, 0, 0, 0, 0, 0, 0, 0, 0, 0, 0, 0, 0, 0, 0, 0, 0, 0, 0, 0, 0, 0, 0, 0, 0, 0, 0, 0, 0, 0, 0, 0, 0, 0, 0, 0, 0, 0, 0, 0, 0, 0, 0,   -178014503464112/3231169210401033824590093525],\n",
       "[0, 0, 0, 0, 1, 0, 0, 0, 0, 0, 0, 0, 0, 0, 0, 0, 0, 0, 0, 0, 0, 0, 0, 0, 0, 0, 0, 0, 0, 0, 0, 0, 0, 0, 0, 0, 0, 0, 0, 0, 0, 0, 0, 0, 0, 0, 0, 0, 0, 0, 0, 0, 0, 0, 0, 0, 0, 0, 0, 0, 0, 0, 0,                                               0],\n",
       "[0, 0, 0, 0, 0, 1, 0, 0, 0, 0, 0, 0, 0, 0, 0, 0, 0, 0, 0, 0, 0, 0, 0, 0, 0, 0, 0, 0, 0, 0, 0, 0, 0, 0, 0, 0, 0, 0, 0, 0, 0, 0, 0, 0, 0, 0, 0, 0, 0, 0, 0, 0, 0, 0, 0, 0, 0, 0, 0, 0, 0, 0, 0,    1068087020784672/140485617843523209764786675],\n",
       "[0, 0, 0, 0, 0, 0, 1, 0, 0, 0, 0, 0, 0, 0, 0, 0, 0, 0, 0, 0, 0, 0, 0, 0, 0, 0, 0, 0, 0, 0, 0, 0, 0, 0, 0, 0, 0, 0, 0, 0, 0, 0, 0, 0, 0, 0, 0, 0, 0, 0, 0, 0, 0, 0, 0, 0, 0, 0, 0, 0, 0, 0, 0,                                               0],\n",
       "[0, 0, 0, 0, 0, 0, 0, 1, 0, 0, 0, 0, 0, 0, 0, 0, 0, 0, 0, 0, 0, 0, 0, 0, 0, 0, 0, 0, 0, 0, 0, 0, 0, 0, 0, 0, 0, 0, 0, 0, 0, 0, 0, 0, 0, 0, 0, 0, 0, 0, 0, 0, 0, 0, 0, 0, 0, 0, 0, 0, 0, 0, 0,     -1106232985812696/1978670673852439574151925],\n",
       "[0, 0, 0, 0, 0, 0, 0, 0, 1, 0, 0, 0, 0, 0, 0, 0, 0, 0, 0, 0, 0, 0, 0, 0, 0, 0, 0, 0, 0, 0, 0, 0, 0, 0, 0, 0, 0, 0, 0, 0, 0, 0, 0, 0, 0, 0, 0, 0, 0, 0, 0, 0, 0, 0, 0, 0, 0, 0, 0, 0, 0, 0, 0,                                               0],\n",
       "[0, 0, 0, 0, 0, 0, 0, 0, 0, 1, 0, 0, 0, 0, 0, 0, 0, 0, 0, 0, 0, 0, 0, 0, 0, 0, 0, 0, 0, 0, 0, 0, 0, 0, 0, 0, 0, 0, 0, 0, 0, 0, 0, 0, 0, 0, 0, 0, 0, 0, 0, 0, 0, 0, 0, 0, 0, 0, 0, 0, 0, 0, 0,      10324841200918496/406576165860090323455875],\n",
       "[0, 0, 0, 0, 0, 0, 0, 0, 0, 0, 1, 0, 0, 0, 0, 0, 0, 0, 0, 0, 0, 0, 0, 0, 0, 0, 0, 0, 0, 0, 0, 0, 0, 0, 0, 0, 0, 0, 0, 0, 0, 0, 0, 0, 0, 0, 0, 0, 0, 0, 0, 0, 0, 0, 0, 0, 0, 0, 0, 0, 0, 0, 0,                                               0],\n",
       "[0, 0, 0, 0, 0, 0, 0, 0, 0, 0, 0, 1, 0, 0, 0, 0, 0, 0, 0, 0, 0, 0, 0, 0, 0, 0, 0, 0, 0, 0, 0, 0, 0, 0, 0, 0, 0, 0, 0, 0, 0, 0, 0, 0, 0, 0, 0, 0, 0, 0, 0, 0, 0, 0, 0, 0, 0, 0, 0, 0, 0, 0, 0,      -46461785404133232/59631170992813247440195],\n",
       "[0, 0, 0, 0, 0, 0, 0, 0, 0, 0, 0, 0, 1, 0, 0, 0, 0, 0, 0, 0, 0, 0, 0, 0, 0, 0, 0, 0, 0, 0, 0, 0, 0, 0, 0, 0, 0, 0, 0, 0, 0, 0, 0, 0, 0, 0, 0, 0, 0, 0, 0, 0, 0, 0, 0, 0, 0, 0, 0, 0, 0, 0, 0,                                               0],\n",
       "[0, 0, 0, 0, 0, 0, 0, 0, 0, 0, 0, 0, 0, 1, 0, 0, 0, 0, 0, 0, 0, 0, 0, 0, 0, 0, 0, 0, 0, 0, 0, 0, 0, 0, 0, 0, 0, 0, 0, 0, 0, 0, 0, 0, 0, 0, 0, 0, 0, 0, 0, 0, 0, 0, 0, 0, 0, 0, 0, 0, 0, 0, 0,        92923570808266464/5421015544801204312745],\n",
       "[0, 0, 0, 0, 0, 0, 0, 0, 0, 0, 0, 0, 0, 0, 1, 0, 0, 0, 0, 0, 0, 0, 0, 0, 0, 0, 0, 0, 0, 0, 0, 0, 0, 0, 0, 0, 0, 0, 0, 0, 0, 0, 0, 0, 0, 0, 0, 0, 0, 0, 0, 0, 0, 0, 0, 0, 0, 0, 0, 0, 0, 0, 0,                                               0],\n",
       "[0, 0, 0, 0, 0, 0, 0, 0, 0, 0, 0, 0, 0, 0, 0, 1, 0, 0, 0, 0, 0, 0, 0, 0, 0, 0, 0, 0, 0, 0, 0, 0, 0, 0, 0, 0, 0, 0, 0, 0, 0, 0, 0, 0, 0, 0, 0, 0, 0, 0, 0, 0, 0, 0, 0, 0, 0, 0, 0, 0, 0, 0, 0,          -3871815450344436/13724089986838491931],\n",
       "[0, 0, 0, 0, 0, 0, 0, 0, 0, 0, 0, 0, 0, 0, 0, 0, 1, 0, 0, 0, 0, 0, 0, 0, 0, 0, 0, 0, 0, 0, 0, 0, 0, 0, 0, 0, 0, 0, 0, 0, 0, 0, 0, 0, 0, 0, 0, 0, 0, 0, 0, 0, 0, 0, 0, 0, 0, 0, 0, 0, 0, 0, 0,                                               0],\n",
       "[0, 0, 0, 0, 0, 0, 0, 0, 0, 0, 0, 0, 0, 0, 0, 0, 0, 1, 0, 0, 0, 0, 0, 0, 0, 0, 0, 0, 0, 0, 0, 0, 0, 0, 0, 0, 0, 0, 0, 0, 0, 0, 0, 0, 0, 0, 0, 0, 0, 0, 0, 0, 0, 0, 0, 0, 0, 0, 0, 0, 0, 0, 0,        836312137274398176/233309529776254362827],\n",
       "[0, 0, 0, 0, 0, 0, 0, 0, 0, 0, 0, 0, 0, 0, 0, 0, 0, 0, 1, 0, 0, 0, 0, 0, 0, 0, 0, 0, 0, 0, 0, 0, 0, 0, 0, 0, 0, 0, 0, 0, 0, 0, 0, 0, 0, 0, 0, 0, 0, 0, 0, 0, 0, 0, 0, 0, 0, 0, 0, 0, 0, 0, 0,                                               0],\n",
       "[0, 0, 0, 0, 0, 0, 0, 0, 0, 0, 0, 0, 0, 0, 0, 0, 0, 0, 0, 1, 0, 0, 0, 0, 0, 0, 0, 0, 0, 0, 0, 0, 0, 0, 0, 0, 0, 0, 0, 0, 0, 0, 0, 0, 0, 0, 0, 0, 0, 0, 0, 0, 0, 0, 0, 0, 0, 0, 0, 0, 0, 0, 0,        -506188925192398896/14054790950376768845],\n",
       "[0, 0, 0, 0, 0, 0, 0, 0, 0, 0, 0, 0, 0, 0, 0, 0, 0, 0, 0, 0, 1, 0, 0, 0, 0, 0, 0, 0, 0, 0, 0, 0, 0, 0, 0, 0, 0, 0, 0, 0, 0, 0, 0, 0, 0, 0, 0, 0, 0, 0, 0, 0, 0, 0, 0, 0, 0, 0, 0, 0, 0, 0, 0,                                               0],\n",
       "[0, 0, 0, 0, 0, 0, 0, 0, 0, 0, 0, 0, 0, 0, 0, 0, 0, 0, 0, 0, 0, 1, 0, 0, 0, 0, 0, 0, 0, 0, 0, 0, 0, 0, 0, 0, 0, 0, 0, 0, 0, 0, 0, 0, 0, 0, 0, 0, 0, 0, 0, 0, 0, 0, 0, 0, 0, 0, 0, 0, 0, 0, 0,            48208469065942752/165350481769138457],\n",
       "[0, 0, 0, 0, 0, 0, 0, 0, 0, 0, 0, 0, 0, 0, 0, 0, 0, 0, 0, 0, 0, 0, 1, 0, 0, 0, 0, 0, 0, 0, 0, 0, 0, 0, 0, 0, 0, 0, 0, 0, 0, 0, 0, 0, 0, 0, 0, 0, 0, 0, 0, 0, 0, 0, 0, 0, 0, 0, 0, 0, 0, 0, 0,                                               0],\n",
       "[0, 0, 0, 0, 0, 0, 0, 0, 0, 0, 0, 0, 0, 0, 0, 0, 0, 0, 0, 0, 0, 0, 0, 1, 0, 0, 0, 0, 0, 0, 0, 0, 0, 0, 0, 0, 0, 0, 0, 0, 0, 0, 0, 0, 0, 0, 0, 0, 0, 0, 0, 0, 0, 0, 0, 0, 0, 0, 0, 0, 0, 0, 0,          -319119105012599304/165350481769138457],\n",
       "[0, 0, 0, 0, 0, 0, 0, 0, 0, 0, 0, 0, 0, 0, 0, 0, 0, 0, 0, 0, 0, 0, 0, 0, 1, 0, 0, 0, 0, 0, 0, 0, 0, 0, 0, 0, 0, 0, 0, 0, 0, 0, 0, 0, 0, 0, 0, 0, 0, 0, 0, 0, 0, 0, 0, 0, 0, 0, 0, 0, 0, 0, 0,                                               0],\n",
       "[0, 0, 0, 0, 0, 0, 0, 0, 0, 0, 0, 0, 0, 0, 0, 0, 0, 0, 0, 0, 0, 0, 0, 0, 0, 1, 0, 0, 0, 0, 0, 0, 0, 0, 0, 0, 0, 0, 0, 0, 0, 0, 0, 0, 0, 0, 0, 0, 0, 0, 0, 0, 0, 0, 0, 0, 0, 0, 0, 0, 0, 0, 0,          1276476420050397216/120761587808921345],\n",
       "[0, 0, 0, 0, 0, 0, 0, 0, 0, 0, 0, 0, 0, 0, 0, 0, 0, 0, 0, 0, 0, 0, 0, 0, 0, 0, 1, 0, 0, 0, 0, 0, 0, 0, 0, 0, 0, 0, 0, 0, 0, 0, 0, 0, 0, 0, 0, 0, 0, 0, 0, 0, 0, 0, 0, 0, 0, 0, 0, 0, 0, 0, 0,                                               0],\n",
       "[0, 0, 0, 0, 0, 0, 0, 0, 0, 0, 0, 0, 0, 0, 0, 0, 0, 0, 0, 0, 0, 0, 0, 0, 0, 0, 0, 1, 0, 0, 0, 0, 0, 0, 0, 0, 0, 0, 0, 0, 0, 0, 0, 0, 0, 0, 0, 0, 0, 0, 0, 0, 0, 0, 0, 0, 0, 0, 0, 0, 0, 0, 0,            -449130592239954576/9289352908378565],\n",
       "[0, 0, 0, 0, 0, 0, 0, 0, 0, 0, 0, 0, 0, 0, 0, 0, 0, 0, 0, 0, 0, 0, 0, 0, 0, 0, 0, 0, 1, 0, 0, 0, 0, 0, 0, 0, 0, 0, 0, 0, 0, 0, 0, 0, 0, 0, 0, 0, 0, 0, 0, 0, 0, 0, 0, 0, 0, 0, 0, 0, 0, 0, 0,                                               0],\n",
       "[0, 0, 0, 0, 0, 0, 0, 0, 0, 0, 0, 0, 0, 0, 0, 0, 0, 0, 0, 0, 0, 0, 0, 0, 0, 0, 0, 0, 0, 1, 0, 0, 0, 0, 0, 0, 0, 0, 0, 0, 0, 0, 0, 0, 0, 0, 0, 0, 0, 0, 0, 0, 0, 0, 0, 0, 0, 0, 0, 0, 0, 0, 0,           8641892085168781152/46446764541892825],\n",
       "[0, 0, 0, 0, 0, 0, 0, 0, 0, 0, 0, 0, 0, 0, 0, 0, 0, 0, 0, 0, 0, 0, 0, 0, 0, 0, 0, 0, 0, 0, 1, 0, 0, 0, 0, 0, 0, 0, 0, 0, 0, 0, 0, 0, 0, 0, 0, 0, 0, 0, 0, 0, 0, 0, 0, 0, 0, 0, 0, 0, 0, 0, 0,                                               0],\n",
       "[0, 0, 0, 0, 0, 0, 0, 0, 0, 0, 0, 0, 0, 0, 0, 0, 0, 0, 0, 0, 0, 0, 0, 0, 0, 0, 0, 0, 0, 0, 0, 1, 0, 0, 0, 0, 0, 0, 0, 0, 0, 0, 0, 0, 0, 0, 0, 0, 0, 0, 0, 0, 0, 0, 0, 0, 0, 0, 0, 0, 0, 0, 0,           -5627683757075637726/9289352908378565],\n",
       "[0, 0, 0, 0, 0, 0, 0, 0, 0, 0, 0, 0, 0, 0, 0, 0, 0, 0, 0, 0, 0, 0, 0, 0, 0, 0, 0, 0, 0, 0, 0, 0, 1, 0, 0, 0, 0, 0, 0, 0, 0, 0, 0, 0, 0, 0, 0, 0, 0, 0, 0, 0, 0, 0, 0, 0, 0, 0, 0, 0, 0, 0, 0,                                               0],\n",
       "[0, 0, 0, 0, 0, 0, 0, 0, 0, 0, 0, 0, 0, 0, 0, 0, 0, 0, 0, 0, 0, 0, 0, 0, 0, 0, 0, 0, 0, 0, 0, 0, 0, 1, 0, 0, 0, 0, 0, 0, 0, 0, 0, 0, 0, 0, 0, 0, 0, 0, 0, 0, 0, 0, 0, 0, 0, 0, 0, 0, 0, 0, 0,            1765547845357062816/1053431773115095],\n",
       "[0, 0, 0, 0, 0, 0, 0, 0, 0, 0, 0, 0, 0, 0, 0, 0, 0, 0, 0, 0, 0, 0, 0, 0, 0, 0, 0, 0, 0, 0, 0, 0, 0, 0, 1, 0, 0, 0, 0, 0, 0, 0, 0, 0, 0, 0, 0, 0, 0, 0, 0, 0, 0, 0, 0, 0, 0, 0, 0, 0, 0, 0, 0,                                               0],\n",
       "[0, 0, 0, 0, 0, 0, 0, 0, 0, 0, 0, 0, 0, 0, 0, 0, 0, 0, 0, 0, 0, 0, 0, 0, 0, 0, 0, 0, 0, 0, 0, 0, 0, 0, 0, 1, 0, 0, 0, 0, 0, 0, 0, 0, 0, 0, 0, 0, 0, 0, 0, 0, 0, 0, 0, 0, 0, 0, 0, 0, 0, 0, 0,              -378331681147942032/95766524828645],\n",
       "[0, 0, 0, 0, 0, 0, 0, 0, 0, 0, 0, 0, 0, 0, 0, 0, 0, 0, 0, 0, 0, 0, 0, 0, 0, 0, 0, 0, 0, 0, 0, 0, 0, 0, 0, 0, 1, 0, 0, 0, 0, 0, 0, 0, 0, 0, 0, 0, 0, 0, 0, 0, 0, 0, 0, 0, 0, 0, 0, 0, 0, 0, 0,                                               0],\n",
       "[0, 0, 0, 0, 0, 0, 0, 0, 0, 0, 0, 0, 0, 0, 0, 0, 0, 0, 0, 0, 0, 0, 0, 0, 0, 0, 0, 0, 0, 0, 0, 0, 0, 0, 0, 0, 0, 1, 0, 0, 0, 0, 0, 0, 0, 0, 0, 0, 0, 0, 0, 0, 0, 0, 0, 0, 0, 0, 0, 0, 0, 0, 0,               278770712424799392/35082786323365],\n",
       "[0, 0, 0, 0, 0, 0, 0, 0, 0, 0, 0, 0, 0, 0, 0, 0, 0, 0, 0, 0, 0, 0, 0, 0, 0, 0, 0, 0, 0, 0, 0, 0, 0, 0, 0, 0, 0, 0, 1, 0, 0, 0, 0, 0, 0, 0, 0, 0, 0, 0, 0, 0, 0, 0, 0, 0, 0, 0, 0, 0, 0, 0, 0,                                               0],\n",
       "[0, 0, 0, 0, 0, 0, 0, 0, 0, 0, 0, 0, 0, 0, 0, 0, 0, 0, 0, 0, 0, 0, 0, 0, 0, 0, 0, 0, 0, 0, 0, 0, 0, 0, 0, 0, 0, 0, 0, 1, 0, 0, 0, 0, 0, 0, 0, 0, 0, 0, 0, 0, 0, 0, 0, 0, 0, 0, 0, 0, 0, 0, 0,                -23230892702066616/1703047879775],\n",
       "[0, 0, 0, 0, 0, 0, 0, 0, 0, 0, 0, 0, 0, 0, 0, 0, 0, 0, 0, 0, 0, 0, 0, 0, 0, 0, 0, 0, 0, 0, 0, 0, 0, 0, 0, 0, 0, 0, 0, 0, 1, 0, 0, 0, 0, 0, 0, 0, 0, 0, 0, 0, 0, 0, 0, 0, 0, 0, 0, 0, 0, 0, 0,                                               0],\n",
       "[0, 0, 0, 0, 0, 0, 0, 0, 0, 0, 0, 0, 0, 0, 0, 0, 0, 0, 0, 0, 0, 0, 0, 0, 0, 0, 0, 0, 0, 0, 0, 0, 0, 0, 0, 0, 0, 0, 0, 0, 0, 1, 0, 0, 0, 0, 0, 0, 0, 0, 0, 0, 0, 0, 0, 0, 0, 0, 0, 0, 0, 0, 0,               278770712424799392/13964992614155],\n",
       "[0, 0, 0, 0, 0, 0, 0, 0, 0, 0, 0, 0, 0, 0, 0, 0, 0, 0, 0, 0, 0, 0, 0, 0, 0, 0, 0, 0, 0, 0, 0, 0, 0, 0, 0, 0, 0, 0, 0, 0, 0, 0, 1, 0, 0, 0, 0, 0, 0, 0, 0, 0, 0, 0, 0, 0, 0, 0, 0, 0, 0, 0, 0,                                               0],\n",
       "[0, 0, 0, 0, 0, 0, 0, 0, 0, 0, 0, 0, 0, 0, 0, 0, 0, 0, 0, 0, 0, 0, 0, 0, 0, 0, 0, 0, 0, 0, 0, 0, 0, 0, 0, 0, 0, 0, 0, 0, 0, 0, 0, 1, 0, 0, 0, 0, 0, 0, 0, 0, 0, 0, 0, 0, 0, 0, 0, 0, 0, 0, 0,                  -3241519911916272/130513949665],\n",
       "[0, 0, 0, 0, 0, 0, 0, 0, 0, 0, 0, 0, 0, 0, 0, 0, 0, 0, 0, 0, 0, 0, 0, 0, 0, 0, 0, 0, 0, 0, 0, 0, 0, 0, 0, 0, 0, 0, 0, 0, 0, 0, 0, 0, 1, 0, 0, 0, 0, 0, 0, 0, 0, 0, 0, 0, 0, 0, 0, 0, 0, 0, 0,                                               0],\n",
       "[0, 0, 0, 0, 0, 0, 0, 0, 0, 0, 0, 0, 0, 0, 0, 0, 0, 0, 0, 0, 0, 0, 0, 0, 0, 0, 0, 0, 0, 0, 0, 0, 0, 0, 0, 0, 0, 0, 0, 0, 0, 0, 0, 0, 0, 1, 0, 0, 0, 0, 0, 0, 0, 0, 0, 0, 0, 0, 0, 0, 0, 0, 0,                     720337758203616/27539640755],\n",
       "[0, 0, 0, 0, 0, 0, 0, 0, 0, 0, 0, 0, 0, 0, 0, 0, 0, 0, 0, 0, 0, 0, 0, 0, 0, 0, 0, 0, 0, 0, 0, 0, 0, 0, 0, 0, 0, 0, 0, 0, 0, 0, 0, 0, 0, 0, 1, 0, 0, 0, 0, 0, 0, 0, 0, 0, 0, 0, 0, 0, 0, 0, 0,                                               0],\n",
       "[0, 0, 0, 0, 0, 0, 0, 0, 0, 0, 0, 0, 0, 0, 0, 0, 0, 0, 0, 0, 0, 0, 0, 0, 0, 0, 0, 0, 0, 0, 0, 0, 0, 0, 0, 0, 0, 0, 0, 0, 0, 0, 0, 0, 0, 0, 0, 1, 0, 0, 0, 0, 0, 0, 0, 0, 0, 0, 0, 0, 0, 0, 0,                       -17242127191044/744314615],\n",
       "[0, 0, 0, 0, 0, 0, 0, 0, 0, 0, 0, 0, 0, 0, 0, 0, 0, 0, 0, 0, 0, 0, 0, 0, 0, 0, 0, 0, 0, 0, 0, 0, 0, 0, 0, 0, 0, 0, 0, 0, 0, 0, 0, 0, 0, 0, 0, 0, 1, 0, 0, 0, 0, 0, 0, 0, 0, 0, 0, 0, 0, 0, 0,                                               0],\n",
       "[0, 0, 0, 0, 0, 0, 0, 0, 0, 0, 0, 0, 0, 0, 0, 0, 0, 0, 0, 0, 0, 0, 0, 0, 0, 0, 0, 0, 0, 0, 0, 0, 0, 0, 0, 0, 0, 0, 0, 0, 0, 0, 0, 0, 0, 0, 0, 0, 0, 1, 0, 0, 0, 0, 0, 0, 0, 0, 0, 0, 0, 0, 0,                         2815041174048/164671375],\n",
       "[0, 0, 0, 0, 0, 0, 0, 0, 0, 0, 0, 0, 0, 0, 0, 0, 0, 0, 0, 0, 0, 0, 0, 0, 0, 0, 0, 0, 0, 0, 0, 0, 0, 0, 0, 0, 0, 0, 0, 0, 0, 0, 0, 0, 0, 0, 0, 0, 0, 0, 1, 0, 0, 0, 0, 0, 0, 0, 0, 0, 0, 0, 0,                                               0],\n",
       "[0, 0, 0, 0, 0, 0, 0, 0, 0, 0, 0, 0, 0, 0, 0, 0, 0, 0, 0, 0, 0, 0, 0, 0, 0, 0, 0, 0, 0, 0, 0, 0, 0, 0, 0, 0, 0, 0, 0, 0, 0, 0, 0, 0, 0, 0, 0, 0, 0, 0, 0, 1, 0, 0, 0, 0, 0, 0, 0, 0, 0, 0, 0,                        -3284214703056/316455425],\n",
       "[0, 0, 0, 0, 0, 0, 0, 0, 0, 0, 0, 0, 0, 0, 0, 0, 0, 0, 0, 0, 0, 0, 0, 0, 0, 0, 0, 0, 0, 0, 0, 0, 0, 0, 0, 0, 0, 0, 0, 0, 0, 0, 0, 0, 0, 0, 0, 0, 0, 0, 0, 0, 1, 0, 0, 0, 0, 0, 0, 0, 0, 0, 0,                                               0],\n",
       "[0, 0, 0, 0, 0, 0, 0, 0, 0, 0, 0, 0, 0, 0, 0, 0, 0, 0, 0, 0, 0, 0, 0, 0, 0, 0, 0, 0, 0, 0, 0, 0, 0, 0, 0, 0, 0, 0, 0, 0, 0, 0, 0, 0, 0, 0, 0, 0, 0, 0, 0, 0, 0, 1, 0, 0, 0, 0, 0, 0, 0, 0, 0,                           123932630304/24342725],\n",
       "[0, 0, 0, 0, 0, 0, 0, 0, 0, 0, 0, 0, 0, 0, 0, 0, 0, 0, 0, 0, 0, 0, 0, 0, 0, 0, 0, 0, 0, 0, 0, 0, 0, 0, 0, 0, 0, 0, 0, 0, 0, 0, 0, 0, 0, 0, 0, 0, 0, 0, 0, 0, 0, 0, 1, 0, 0, 0, 0, 0, 0, 0, 0,                                               0],\n",
       "[0, 0, 0, 0, 0, 0, 0, 0, 0, 0, 0, 0, 0, 0, 0, 0, 0, 0, 0, 0, 0, 0, 0, 0, 0, 0, 0, 0, 0, 0, 0, 0, 0, 0, 0, 0, 0, 0, 0, 0, 0, 0, 0, 0, 0, 0, 0, 0, 0, 0, 0, 0, 0, 0, 0, 1, 0, 0, 0, 0, 0, 0, 0,                           -30983157576/15751175],\n",
       "[0, 0, 0, 0, 0, 0, 0, 0, 0, 0, 0, 0, 0, 0, 0, 0, 0, 0, 0, 0, 0, 0, 0, 0, 0, 0, 0, 0, 0, 0, 0, 0, 0, 0, 0, 0, 0, 0, 0, 0, 0, 0, 0, 0, 0, 0, 0, 0, 0, 0, 0, 0, 0, 0, 0, 0, 1, 0, 0, 0, 0, 0, 0,                                               0],\n",
       "[0, 0, 0, 0, 0, 0, 0, 0, 0, 0, 0, 0, 0, 0, 0, 0, 0, 0, 0, 0, 0, 0, 0, 0, 0, 0, 0, 0, 0, 0, 0, 0, 0, 0, 0, 0, 0, 0, 0, 0, 0, 0, 0, 0, 0, 0, 0, 0, 0, 0, 0, 0, 0, 0, 0, 0, 0, 1, 0, 0, 0, 0, 0,                                 74974368/130175],\n",
       "[0, 0, 0, 0, 0, 0, 0, 0, 0, 0, 0, 0, 0, 0, 0, 0, 0, 0, 0, 0, 0, 0, 0, 0, 0, 0, 0, 0, 0, 0, 0, 0, 0, 0, 0, 0, 0, 0, 0, 0, 0, 0, 0, 0, 0, 0, 0, 0, 0, 0, 0, 0, 0, 0, 0, 0, 0, 0, 1, 0, 0, 0, 0,                                               0],\n",
       "[0, 0, 0, 0, 0, 0, 0, 0, 0, 0, 0, 0, 0, 0, 0, 0, 0, 0, 0, 0, 0, 0, 0, 0, 0, 0, 0, 0, 0, 0, 0, 0, 0, 0, 0, 0, 0, 0, 0, 0, 0, 0, 0, 0, 0, 0, 0, 0, 0, 0, 0, 0, 0, 0, 0, 0, 0, 0, 0, 1, 0, 0, 0,                                  -1906128/15875],\n",
       "[0, 0, 0, 0, 0, 0, 0, 0, 0, 0, 0, 0, 0, 0, 0, 0, 0, 0, 0, 0, 0, 0, 0, 0, 0, 0, 0, 0, 0, 0, 0, 0, 0, 0, 0, 0, 0, 0, 0, 0, 0, 0, 0, 0, 0, 0, 0, 0, 0, 0, 0, 0, 0, 0, 0, 0, 0, 0, 0, 0, 1, 0, 0,                                               0],\n",
       "[0, 0, 0, 0, 0, 0, 0, 0, 0, 0, 0, 0, 0, 0, 0, 0, 0, 0, 0, 0, 0, 0, 0, 0, 0, 0, 0, 0, 0, 0, 0, 0, 0, 0, 0, 0, 0, 0, 0, 0, 0, 0, 0, 0, 0, 0, 0, 0, 0, 0, 0, 0, 0, 0, 0, 0, 0, 0, 0, 0, 0, 1, 0,                                        2016/127],\n",
       "[0, 0, 0, 0, 0, 0, 0, 0, 0, 0, 0, 0, 0, 0, 0, 0, 0, 0, 0, 0, 0, 0, 0, 0, 0, 0, 0, 0, 0, 0, 0, 0, 0, 0, 0, 0, 0, 0, 0, 0, 0, 0, 0, 0, 0, 0, 0, 0, 0, 0, 0, 0, 0, 0, 0, 0, 0, 0, 0, 0, 0, 0, 1,                                               0]])"
      ]
     },
     "execution_count": 51,
     "metadata": {},
     "output_type": "execute_result"
    }
   ],
   "source": [
    "matrix_n = companion (n)\n",
    "matrix_n"
   ]
  },
  {
   "cell_type": "code",
   "execution_count": 52,
   "id": "1feb626c-57d6-4aff-a2e6-30d59235ae6d",
   "metadata": {},
   "outputs": [],
   "source": [
    "def root (matrix):\n",
    "    roots = []\n",
    "    \n",
    "    if (n>8):\n",
    "        eigs = matrix.eigenvals()\n",
    "        for r in eigs.keys():\n",
    "            roots.append(r.evalf(50))\n",
    "    else:\n",
    "        matrix_n1 = np.array(matrix, dtype=float)\n",
    "        eigs = UL_eigen(matrix_n1)\n",
    "        for r in eigs:\n",
    "            roots.append(r)\n",
    "    return roots"
   ]
  },
  {
   "cell_type": "code",
   "execution_count": 56,
   "id": "830ecec1-ae8c-4434-afbc-ab1abd48932e",
   "metadata": {},
   "outputs": [
    {
     "data": {
      "text/plain": [
       "array([-0.99930504173577213945690562434563631196971219167561,\n",
       "       -0.99634011677195527934692450067639912320985750634023,\n",
       "       -0.99101337147674432073938238344330311364134944539079,\n",
       "       -0.98333625388462595693129930215683111694524750662374,\n",
       "       -0.97332682778991096374185350735227266802614529445517,\n",
       "       -0.96100879965205371891861412189715720676211461103785,\n",
       "       -0.94641137485840281606248149134726479527939497179523,\n",
       "       -0.92956917213193957582149015455922560734742701442971,\n",
       "       -0.91052213707850280575638066800832986101348808488836,\n",
       "       -0.88931544599511410585340403827285162242919446151045,\n",
       "       -0.86599939815409281976078338507015750241250191875825,\n",
       "       -0.84062929625258036275169154469587330298248982380176,\n",
       "       -0.81326531512279755974192333808630334069814182256560,\n",
       "       -0.78397235894334140761022052521376828405641412498983,\n",
       "       -0.75281990726053189661186377488569398555171427132209,\n",
       "       -0.71988185017161082684894021783194724475813800331490,\n",
       "       -0.68523631305423324256355837103137630193564107853967,\n",
       "       -0.64896547125465733985776123199340488552969043347320,\n",
       "       -0.61115535517239325024885297101854891869612455930797,\n",
       "       -0.57189564620263403428387811665918864318319100609125,\n",
       "       -0.53127946401989454565801390354445524740852558873418,\n",
       "       -0.48940314570705295747852630702192139084937329746374,\n",
       "       -0.44636601725346408798494771475891518920675075782625,\n",
       "       -0.40227015796399160369576677126015884871326520561502,\n",
       "       -0.35722015833766811595044261504620253162626446464091,\n",
       "       -0.31132287199021095615751269856015688355771535786805,\n",
       "       -0.26468716220876741637396417251002011798041313629509,\n",
       "       -0.21742364374000708414964874898882261757848583114122,\n",
       "       -0.16964442042399281803731362974826984419999026673438,\n",
       "       -0.12146281929612055447037646349224787821868363833719,\n",
       "       -0.072993121787799039449542941940337493244126181668779,\n",
       "       -0.024350292663424432508955842853715661426887109314976,\n",
       "       0.024350292663424432508955842853715661426887109314976,\n",
       "       0.072993121787799039449542941940337493244126181668779,\n",
       "       0.12146281929612055447037646349224787821868363833719,\n",
       "       0.16964442042399281803731362974826984419999026673438,\n",
       "       0.21742364374000708414964874898882261757848583114122,\n",
       "       0.26468716220876741637396417251002011798041313629509,\n",
       "       0.31132287199021095615751269856015688355771535786805,\n",
       "       0.35722015833766811595044261504620253162626446464091,\n",
       "       0.40227015796399160369576677126015884871326520561502,\n",
       "       0.44636601725346408798494771475891518920675075782625,\n",
       "       0.48940314570705295747852630702192139084937329746374,\n",
       "       0.53127946401989454565801390354445524740852558873418,\n",
       "       0.57189564620263403428387811665918864318319100609125,\n",
       "       0.61115535517239325024885297101854891869612455930797,\n",
       "       0.64896547125465733985776123199340488552969043347320,\n",
       "       0.68523631305423324256355837103137630193564107853967,\n",
       "       0.71988185017161082684894021783194724475813800331490,\n",
       "       0.75281990726053189661186377488569398555171427132209,\n",
       "       0.78397235894334140761022052521376828405641412498983,\n",
       "       0.81326531512279755974192333808630334069814182256560,\n",
       "       0.84062929625258036275169154469587330298248982380176,\n",
       "       0.86599939815409281976078338507015750241250191875825,\n",
       "       0.88931544599511410585340403827285162242919446151045,\n",
       "       0.91052213707850280575638066800832986101348808488836,\n",
       "       0.92956917213193957582149015455922560734742701442971,\n",
       "       0.94641137485840281606248149134726479527939497179523,\n",
       "       0.96100879965205371891861412189715720676211461103785,\n",
       "       0.97332682778991096374185350735227266802614529445517,\n",
       "       0.98333625388462595693129930215683111694524750662374,\n",
       "       0.99101337147674432073938238344330311364134944539079,\n",
       "       0.99634011677195527934692450067639912320985750634023,\n",
       "       0.99930504173577213945690562434563631196971219167561], dtype=object)"
      ]
     },
     "execution_count": 56,
     "metadata": {},
     "output_type": "execute_result"
    }
   ],
   "source": [
    "roots = root (matrix_n)\n",
    "roots_x = np.sort(roots)\n",
    "roots_x"
   ]
  },
  {
   "cell_type": "code",
   "execution_count": 76,
   "id": "c2e247a6-0986-4297-bb39-d842eb02ff8d",
   "metadata": {},
   "outputs": [
    {
     "data": {
      "text/plain": [
       "0.0"
      ]
     },
     "execution_count": 76,
     "metadata": {},
     "output_type": "execute_result"
    }
   ],
   "source": [
    "np.round(np.sum(roots_x.astype(float)),10)"
   ]
  },
  {
   "cell_type": "code",
   "execution_count": 57,
   "id": "7ce4ab3d",
   "metadata": {},
   "outputs": [],
   "source": [
    "# Lagrangian function: \n",
    "def weight_i (root, roots):\n",
    "    prod = 1; x = sp.symbols('x')\n",
    "    for r in roots:\n",
    "        if (r == root):\n",
    "            continue\n",
    "        else:\n",
    "            prod *= (x - r) / (root - r)\n",
    "    lagrangian = sp.simplify(prod)\n",
    "    \n",
    "    definite_integral = sp.integrate(lagrangian, (x, -1, 1))\n",
    "    return sp.expand(definite_integral)"
   ]
  },
  {
   "cell_type": "code",
   "execution_count": 58,
   "id": "724497ca-cf9d-4cc4-bd2c-dce9cc22cd0b",
   "metadata": {},
   "outputs": [],
   "source": [
    "weights_n = []\n",
    "for j in range (n):\n",
    "    weights_n.append(weight_i (roots_x[j], roots_x))"
   ]
  },
  {
   "cell_type": "code",
   "execution_count": 59,
   "id": "b72794cc-6bcc-4514-8cfc-b6a1fe55a979",
   "metadata": {},
   "outputs": [
    {
     "data": {
      "text/plain": [
       "[0.0017832807216964329472958533374975707045929570225579,\n",
       " 0.0041470332605624676352879001833959024882077159744025,\n",
       " 0.0065044579689783628561154109626459009566635709718574,\n",
       " 0.0088467598263639477230299033354132672531977488796602,\n",
       " 0.011168139460131128818594286823882490881287719436154,\n",
       " 0.013463047896718642598065959571971578405574542175738,\n",
       " 0.015726030476024719321962579459194778536653090512279,\n",
       " 0.017951715775697343085054635190576404915863882651949,\n",
       " 0.020134823153530209372346330839402300904273280069975,\n",
       " 0.022270173808383254159287816189409816130164694229206,\n",
       " 0.024352702568710873338172353335600234553749322859943,\n",
       " 0.026377469715054658671690907242512514544721028817550,\n",
       " 0.028339672614259483227509120520360196869620299111969,\n",
       " 0.030234657072402478867976392022199659435199468503320,\n",
       " 0.032057928354851553585475735696372916571351181358678,\n",
       " 0.033805161837141609391550172079137274490719492993557,\n",
       " 0.035472213256882383810684434646910458276410811750011,\n",
       " 0.037055128540240046040420048995352567782199272005875,\n",
       " 0.038550153178615629128947937953571656349211604087654,\n",
       " 0.039953741132720341386631297352749250460649326363570,\n",
       " 0.041262563242623528610142450780924809159009707416812,\n",
       " 0.042473515123653589007348191863730421392386330573823,\n",
       " 0.043583724529323453376820053562022434015959517357356,\n",
       " 0.044590558163756563060099812522780136232061846097416,\n",
       " 0.045491627927418144479755540320427750264765835061525,\n",
       " 0.046284796581314417295942952321418106384365156812452,\n",
       " 0.046968182816210017325318400953617931345175257277246,\n",
       " 0.047540165714830308662263166752103563470362191823964,\n",
       " 0.047999388596458307728108168376929840650436516753162,\n",
       " 0.048344762234802957169689360560465888560509891157954,\n",
       " 0.048575467441503426934780852379804357809709996621105,\n",
       " 0.048690957009139720383438472572950171302490233104708,\n",
       " 0.048690957009139720383365694870342705811944401236842,\n",
       " 0.048575467441503426934794734488069704502828027320968,\n",
       " 0.048344762234802957169769613512743656517021962808479,\n",
       " 0.047999388596458307728124572557473561517757892787759,\n",
       " 0.047540165714830308662297422479662675055053864625013,\n",
       " 0.046968182816210017325329778624689945478298684742955,\n",
       " 0.046284796581314417295939624286568250718617783466127,\n",
       " 0.045491627927418144479754867017235492781776906365427,\n",
       " 0.044590558163756563060143695249372601470767021006415,\n",
       " 0.043583724529323453376827621768654255011745777989467,\n",
       " 0.042473515123653589007332258533701339604688984621464,\n",
       " 0.041262563242623528610177883244919156868030644681816,\n",
       " 0.039953741132720341386670655644520277335582502680055,\n",
       " 0.038550153178615629128957596982643070448314299975021,\n",
       " 0.037055128540240046040414287444763481921507564088700,\n",
       " 0.035472213256882383810693846216117961094571136709043,\n",
       " 0.033805161837141609391566687060458315001170377244663,\n",
       " 0.032057928354851553585462944733337967724908820056304,\n",
       " 0.030234657072402478867981716332946093694496870062207,\n",
       " 0.028339672614259483227509886251124119702714877601079,\n",
       " 0.026377469715054658671691125540518460962084973523929,\n",
       " 0.024352702568710873338177216871857891038928091792546,\n",
       " 0.022270173808383254159299411144421111190773185976666,\n",
       " 0.020134823153530209372340242518652296552759458715988,\n",
       " 0.017951715775697343085044395502806584279084494931111,\n",
       " 0.015726030476024719321965725017819937496765093912863,\n",
       " 0.013463047896718642598060826510544978690745581156390,\n",
       " 0.011168139460131128818590562667282129142464127632984,\n",
       " 0.0088467598263639477230308232380186332753326668569085,\n",
       " 0.0065044579689783628561173887262526023201510655438652,\n",
       " 0.0041470332605624676352875581679803006322811739586339,\n",
       " 0.0017832807216964329472960725956662366732694916243935]"
      ]
     },
     "metadata": {},
     "output_type": "display_data"
    }
   ],
   "source": [
    "display(weights_n)"
   ]
  },
  {
   "cell_type": "code",
   "execution_count": 75,
   "id": "e5127b9f-82cd-4e4c-a145-5bc019d6015e",
   "metadata": {},
   "outputs": [
    {
     "data": {
      "text/plain": [
       "2.0"
      ]
     },
     "execution_count": 75,
     "metadata": {},
     "output_type": "execute_result"
    }
   ],
   "source": [
    "np.round(np.sum(np.array(weights_n).astype(float)),10)"
   ]
  },
  {
   "cell_type": "code",
   "execution_count": 60,
   "id": "1b8be2d3-ba56-4aa6-887b-321cbabfd146",
   "metadata": {},
   "outputs": [
    {
     "data": {
      "image/png": "[encoded data removed]",
      "text/plain": [
       "<Figure size 700x400 with 1 Axes>"
      ]
     },
     "metadata": {},
     "output_type": "display_data"
    }
   ],
   "source": [
    "plt.figure(figsize = (7,4))\n",
    "plt.plot(roots_x, weights_n, color = 'b')\n",
    "plt.title(f'Weights and roots for n = {n}')\n",
    "plt.xlabel('Roots')\n",
    "plt.ylabel('Weights')\n",
    "plt.show()"
   ]
  },
  {
   "cell_type": "code",
   "execution_count": 61,
   "id": "fb6c53e9-3975-4411-b744-a73f9878de4a",
   "metadata": {},
   "outputs": [
    {
     "data": {
      "image/png": "[encoded data removed]",
      "text/plain": [
       "<Figure size 700x400 with 1 Axes>"
      ]
     },
     "metadata": {},
     "output_type": "display_data"
    }
   ],
   "source": [
    "plt.figure(figsize = (7,4))\n",
    "plt.scatter(roots_x, weights_n, color = 'darkred')\n",
    "plt.title(f'Weights and roots for n = {n}')\n",
    "plt.xlabel('Roots')\n",
    "plt.ylabel('Weights')\n",
    "plt.show()"
   ]
  },
  {
   "cell_type": "code",
   "execution_count": 62,
   "id": "2751521d-4633-4fe0-a906-98fd7db81526",
   "metadata": {},
   "outputs": [
    {
     "data": {
      "image/png": "[encoded data removed]",
      "text/plain": [
       "<Figure size 700x400 with 1 Axes>"
      ]
     },
     "metadata": {},
     "output_type": "display_data"
    }
   ],
   "source": [
    "if (n > 30):\n",
    "    bin = int(n/5)\n",
    "else:\n",
    "    bin = int(n/2)\n",
    "\n",
    "plt.figure(figsize = (7,4))\n",
    "plt.hist(np.array(roots_x, dtype=float), bins = bin, edgecolor = 'black', color = 'lightblue')\n",
    "plt.title(f'Weights and roots for n = {n}')\n",
    "plt.xlabel('Roots')\n",
    "plt.ylabel('Weights')\n",
    "plt.show()"
   ]
  },
  {
   "cell_type": "code",
   "execution_count": 63,
   "id": "f19fdb21-b841-45cd-bb88-781513adf5c2",
   "metadata": {},
   "outputs": [
    {
     "data": {
      "text/plain": [
       "(array([-0.99930504, -0.99634012, -0.99101337, -0.98333625, -0.97332683,\n",
       "        -0.9610088 , -0.94641137, -0.92956917, -0.91052214, -0.88931545,\n",
       "        -0.8659994 , -0.8406293 , -0.81326532, -0.78397236, -0.75281991,\n",
       "        -0.71988185, -0.68523631, -0.64896547, -0.61115536, -0.57189565,\n",
       "        -0.53127946, -0.48940315, -0.44636602, -0.40227016, -0.35722016,\n",
       "        -0.31132287, -0.26468716, -0.21742364, -0.16964442, -0.12146282,\n",
       "        -0.07299312, -0.02435029,  0.02435029,  0.07299312,  0.12146282,\n",
       "         0.16964442,  0.21742364,  0.26468716,  0.31132287,  0.35722016,\n",
       "         0.40227016,  0.44636602,  0.48940315,  0.53127946,  0.57189565,\n",
       "         0.61115536,  0.64896547,  0.68523631,  0.71988185,  0.75281991,\n",
       "         0.78397236,  0.81326532,  0.8406293 ,  0.8659994 ,  0.88931545,\n",
       "         0.91052214,  0.92956917,  0.94641137,  0.9610088 ,  0.97332683,\n",
       "         0.98333625,  0.99101337,  0.99634012,  0.99930504]),\n",
       " array([0.00178328, 0.00414703, 0.00650446, 0.00884676, 0.01116814,\n",
       "        0.01346305, 0.01572603, 0.01795172, 0.02013482, 0.02227017,\n",
       "        0.0243527 , 0.02637747, 0.02833967, 0.03023466, 0.03205793,\n",
       "        0.03380516, 0.03547221, 0.03705513, 0.03855015, 0.03995374,\n",
       "        0.04126256, 0.04247352, 0.04358372, 0.04459056, 0.04549163,\n",
       "        0.0462848 , 0.04696818, 0.04754017, 0.04799939, 0.04834476,\n",
       "        0.04857547, 0.04869096, 0.04869096, 0.04857547, 0.04834476,\n",
       "        0.04799939, 0.04754017, 0.04696818, 0.0462848 , 0.04549163,\n",
       "        0.04459056, 0.04358372, 0.04247352, 0.04126256, 0.03995374,\n",
       "        0.03855015, 0.03705513, 0.03547221, 0.03380516, 0.03205793,\n",
       "        0.03023466, 0.02833967, 0.02637747, 0.0243527 , 0.02227017,\n",
       "        0.02013482, 0.01795172, 0.01572603, 0.01346305, 0.01116814,\n",
       "        0.00884676, 0.00650446, 0.00414703, 0.00178328]))"
      ]
     },
     "execution_count": 63,
     "metadata": {},
     "output_type": "execute_result"
    }
   ],
   "source": [
    "roots1, weights1"
   ]
  },
  {
   "cell_type": "code",
   "execution_count": 64,
   "id": "b07c532a-2569-42f5-92e9-2e39e9eaf35a",
   "metadata": {},
   "outputs": [
    {
     "data": {
      "text/plain": [
       "(array([-0.99930504173577213945690562434563631196971219167561,\n",
       "        -0.99634011677195527934692450067639912320985750634023,\n",
       "        -0.99101337147674432073938238344330311364134944539079,\n",
       "        -0.98333625388462595693129930215683111694524750662374,\n",
       "        -0.97332682778991096374185350735227266802614529445517,\n",
       "        -0.96100879965205371891861412189715720676211461103785,\n",
       "        -0.94641137485840281606248149134726479527939497179523,\n",
       "        -0.92956917213193957582149015455922560734742701442971,\n",
       "        -0.91052213707850280575638066800832986101348808488836,\n",
       "        -0.88931544599511410585340403827285162242919446151045,\n",
       "        -0.86599939815409281976078338507015750241250191875825,\n",
       "        -0.84062929625258036275169154469587330298248982380176,\n",
       "        -0.81326531512279755974192333808630334069814182256560,\n",
       "        -0.78397235894334140761022052521376828405641412498983,\n",
       "        -0.75281990726053189661186377488569398555171427132209,\n",
       "        -0.71988185017161082684894021783194724475813800331490,\n",
       "        -0.68523631305423324256355837103137630193564107853967,\n",
       "        -0.64896547125465733985776123199340488552969043347320,\n",
       "        -0.61115535517239325024885297101854891869612455930797,\n",
       "        -0.57189564620263403428387811665918864318319100609125,\n",
       "        -0.53127946401989454565801390354445524740852558873418,\n",
       "        -0.48940314570705295747852630702192139084937329746374,\n",
       "        -0.44636601725346408798494771475891518920675075782625,\n",
       "        -0.40227015796399160369576677126015884871326520561502,\n",
       "        -0.35722015833766811595044261504620253162626446464091,\n",
       "        -0.31132287199021095615751269856015688355771535786805,\n",
       "        -0.26468716220876741637396417251002011798041313629509,\n",
       "        -0.21742364374000708414964874898882261757848583114122,\n",
       "        -0.16964442042399281803731362974826984419999026673438,\n",
       "        -0.12146281929612055447037646349224787821868363833719,\n",
       "        -0.072993121787799039449542941940337493244126181668779,\n",
       "        -0.024350292663424432508955842853715661426887109314976,\n",
       "        0.024350292663424432508955842853715661426887109314976,\n",
       "        0.072993121787799039449542941940337493244126181668779,\n",
       "        0.12146281929612055447037646349224787821868363833719,\n",
       "        0.16964442042399281803731362974826984419999026673438,\n",
       "        0.21742364374000708414964874898882261757848583114122,\n",
       "        0.26468716220876741637396417251002011798041313629509,\n",
       "        0.31132287199021095615751269856015688355771535786805,\n",
       "        0.35722015833766811595044261504620253162626446464091,\n",
       "        0.40227015796399160369576677126015884871326520561502,\n",
       "        0.44636601725346408798494771475891518920675075782625,\n",
       "        0.48940314570705295747852630702192139084937329746374,\n",
       "        0.53127946401989454565801390354445524740852558873418,\n",
       "        0.57189564620263403428387811665918864318319100609125,\n",
       "        0.61115535517239325024885297101854891869612455930797,\n",
       "        0.64896547125465733985776123199340488552969043347320,\n",
       "        0.68523631305423324256355837103137630193564107853967,\n",
       "        0.71988185017161082684894021783194724475813800331490,\n",
       "        0.75281990726053189661186377488569398555171427132209,\n",
       "        0.78397235894334140761022052521376828405641412498983,\n",
       "        0.81326531512279755974192333808630334069814182256560,\n",
       "        0.84062929625258036275169154469587330298248982380176,\n",
       "        0.86599939815409281976078338507015750241250191875825,\n",
       "        0.88931544599511410585340403827285162242919446151045,\n",
       "        0.91052213707850280575638066800832986101348808488836,\n",
       "        0.92956917213193957582149015455922560734742701442971,\n",
       "        0.94641137485840281606248149134726479527939497179523,\n",
       "        0.96100879965205371891861412189715720676211461103785,\n",
       "        0.97332682778991096374185350735227266802614529445517,\n",
       "        0.98333625388462595693129930215683111694524750662374,\n",
       "        0.99101337147674432073938238344330311364134944539079,\n",
       "        0.99634011677195527934692450067639912320985750634023,\n",
       "        0.99930504173577213945690562434563631196971219167561], dtype=object),\n",
       " [0.0017832807216964329472958533374975707045929570225579,\n",
       "  0.0041470332605624676352879001833959024882077159744025,\n",
       "  0.0065044579689783628561154109626459009566635709718574,\n",
       "  0.0088467598263639477230299033354132672531977488796602,\n",
       "  0.011168139460131128818594286823882490881287719436154,\n",
       "  0.013463047896718642598065959571971578405574542175738,\n",
       "  0.015726030476024719321962579459194778536653090512279,\n",
       "  0.017951715775697343085054635190576404915863882651949,\n",
       "  0.020134823153530209372346330839402300904273280069975,\n",
       "  0.022270173808383254159287816189409816130164694229206,\n",
       "  0.024352702568710873338172353335600234553749322859943,\n",
       "  0.026377469715054658671690907242512514544721028817550,\n",
       "  0.028339672614259483227509120520360196869620299111969,\n",
       "  0.030234657072402478867976392022199659435199468503320,\n",
       "  0.032057928354851553585475735696372916571351181358678,\n",
       "  0.033805161837141609391550172079137274490719492993557,\n",
       "  0.035472213256882383810684434646910458276410811750011,\n",
       "  0.037055128540240046040420048995352567782199272005875,\n",
       "  0.038550153178615629128947937953571656349211604087654,\n",
       "  0.039953741132720341386631297352749250460649326363570,\n",
       "  0.041262563242623528610142450780924809159009707416812,\n",
       "  0.042473515123653589007348191863730421392386330573823,\n",
       "  0.043583724529323453376820053562022434015959517357356,\n",
       "  0.044590558163756563060099812522780136232061846097416,\n",
       "  0.045491627927418144479755540320427750264765835061525,\n",
       "  0.046284796581314417295942952321418106384365156812452,\n",
       "  0.046968182816210017325318400953617931345175257277246,\n",
       "  0.047540165714830308662263166752103563470362191823964,\n",
       "  0.047999388596458307728108168376929840650436516753162,\n",
       "  0.048344762234802957169689360560465888560509891157954,\n",
       "  0.048575467441503426934780852379804357809709996621105,\n",
       "  0.048690957009139720383438472572950171302490233104708,\n",
       "  0.048690957009139720383365694870342705811944401236842,\n",
       "  0.048575467441503426934794734488069704502828027320968,\n",
       "  0.048344762234802957169769613512743656517021962808479,\n",
       "  0.047999388596458307728124572557473561517757892787759,\n",
       "  0.047540165714830308662297422479662675055053864625013,\n",
       "  0.046968182816210017325329778624689945478298684742955,\n",
       "  0.046284796581314417295939624286568250718617783466127,\n",
       "  0.045491627927418144479754867017235492781776906365427,\n",
       "  0.044590558163756563060143695249372601470767021006415,\n",
       "  0.043583724529323453376827621768654255011745777989467,\n",
       "  0.042473515123653589007332258533701339604688984621464,\n",
       "  0.041262563242623528610177883244919156868030644681816,\n",
       "  0.039953741132720341386670655644520277335582502680055,\n",
       "  0.038550153178615629128957596982643070448314299975021,\n",
       "  0.037055128540240046040414287444763481921507564088700,\n",
       "  0.035472213256882383810693846216117961094571136709043,\n",
       "  0.033805161837141609391566687060458315001170377244663,\n",
       "  0.032057928354851553585462944733337967724908820056304,\n",
       "  0.030234657072402478867981716332946093694496870062207,\n",
       "  0.028339672614259483227509886251124119702714877601079,\n",
       "  0.026377469715054658671691125540518460962084973523929,\n",
       "  0.024352702568710873338177216871857891038928091792546,\n",
       "  0.022270173808383254159299411144421111190773185976666,\n",
       "  0.020134823153530209372340242518652296552759458715988,\n",
       "  0.017951715775697343085044395502806584279084494931111,\n",
       "  0.015726030476024719321965725017819937496765093912863,\n",
       "  0.013463047896718642598060826510544978690745581156390,\n",
       "  0.011168139460131128818590562667282129142464127632984,\n",
       "  0.0088467598263639477230308232380186332753326668569085,\n",
       "  0.0065044579689783628561173887262526023201510655438652,\n",
       "  0.0041470332605624676352875581679803006322811739586339,\n",
       "  0.0017832807216964329472960725956662366732694916243935])"
      ]
     },
     "execution_count": 64,
     "metadata": {},
     "output_type": "execute_result"
    }
   ],
   "source": [
    "roots_x, weights_n"
   ]
  },
  {
   "cell_type": "code",
   "execution_count": 33,
   "id": "8b2054bf-e0c7-4dff-bf72-569da428a6da",
   "metadata": {},
   "outputs": [
    {
     "name": "stdout",
     "output_type": "stream",
     "text": [
      "2\n",
      "True\n",
      "3\n",
      "True\n",
      "4\n",
      "True\n",
      "5\n",
      "True\n",
      "6\n",
      "True\n",
      "7\n",
      "True\n",
      "8\n",
      "True\n",
      "9\n",
      "True\n",
      "10\n",
      "True\n",
      "11\n",
      "True\n",
      "12\n",
      "True\n",
      "13\n",
      "True\n",
      "14\n",
      "True\n",
      "15\n",
      "True\n",
      "16\n",
      "True\n",
      "17\n",
      "True\n",
      "18\n",
      "True\n",
      "19\n",
      "True\n",
      "20\n",
      "True\n",
      "21\n",
      "True\n",
      "22\n",
      "True\n",
      "23\n",
      "True\n",
      "24\n",
      "True\n",
      "25\n",
      "True\n",
      "26\n",
      "True\n",
      "27\n",
      "True\n",
      "28\n",
      "True\n",
      "29\n",
      "True\n",
      "30\n",
      "True\n",
      "31\n",
      "True\n",
      "32\n",
      "True\n",
      "33\n",
      "True\n",
      "34\n",
      "True\n",
      "35\n",
      "True\n",
      "36\n",
      "True\n",
      "37\n",
      "True\n",
      "38\n",
      "True\n",
      "39\n",
      "True\n",
      "40\n",
      "True\n",
      "41\n",
      "True\n",
      "42\n",
      "True\n",
      "43\n",
      "True\n",
      "44\n",
      "True\n",
      "45\n",
      "True\n",
      "46\n",
      "True\n",
      "47\n",
      "True\n",
      "48\n",
      "True\n",
      "49\n",
      "True\n",
      "50\n",
      "True\n",
      "51\n",
      "True\n",
      "52\n",
      "True\n",
      "53\n",
      "True\n",
      "54\n",
      "True\n",
      "55\n",
      "True\n",
      "56\n",
      "True\n",
      "57\n",
      "True\n",
      "58\n",
      "True\n",
      "59\n",
      "True\n",
      "60\n",
      "True\n",
      "61\n",
      "True\n",
      "62\n",
      "True\n",
      "63\n",
      "True\n",
      "64\n",
      "True\n"
     ]
    }
   ],
   "source": [
    "for n in range (2,65):\n",
    "    roots1, weights1 = roots_weights (jacobi_matrix (n))\n",
    "    \n",
    "    roots = root (companion (n))\n",
    "    roots2 = np.sort (roots)\n",
    "    \n",
    "    weights_n = []\n",
    "    for j in range (n):\n",
    "        weights_n.append(weight_i (roots2[j], roots2))       \n",
    "    weights2 = weights_n\n",
    "    print (n)\n",
    "    df = pd.DataFrame({\n",
    "    'roots1': roots1,\n",
    "    'roots2': roots2\n",
    "    })\n",
    "    #print(df)\n",
    "    print(np.allclose(np.round(np.sort(roots1.astype(float)),4), np.round(roots2.astype(float),4), 1e-4))"
   ]
  }
 ],
 "metadata": {
  "kernelspec": {
   "display_name": "Python 3 (ipykernel)",
   "language": "python",
   "name": "python3"
  },
  "language_info": {
   "codemirror_mode": {
    "name": "ipython",
    "version": 3
   },
   "file_extension": ".py",
   "mimetype": "text/x-python",
   "name": "python",
   "nbconvert_exporter": "python",
   "pygments_lexer": "ipython3",
   "version": "3.11.5"
  }
 },
 "nbformat": 4,
 "nbformat_minor": 5
}
