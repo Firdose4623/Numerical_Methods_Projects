{
 "cells": [
  {
   "cell_type": "markdown",
   "id": "8ace852b-a197-4085-aaae-3e45418fd6fd",
   "metadata": {},
   "source": [
    "## Importing libraries"
   ]
  },
  {
   "cell_type": "code",
   "execution_count": 2,
   "id": "1b89c4ba-2b7d-4759-8fc9-08b984f22902",
   "metadata": {},
   "outputs": [],
   "source": [
    "import numpy as np\n",
    "import pandas as pd\n",
    "import scipy.linalg as la\n",
    "import sympy as sp\n",
    "import itertools\n",
    "import math"
   ]
  },
  {
   "cell_type": "code",
   "execution_count": 101,
   "id": "84253455-83ee-470e-8c85-796cb4b2848f",
   "metadata": {},
   "outputs": [],
   "source": [
    "data=pd.read_excel(\"/home/sanvi/Downloads/Book2.xlsx\")\n",
    "matrix = data.iloc[:,:].values\n",
    "matrix = matrix.reshape (5,5)"
   ]
  },
  {
   "cell_type": "raw",
   "id": "203eea46-b479-48dc-854a-dbfae17340ae",
   "metadata": {},
   "source": [
    "##### Change to code to manually input file\n",
    "'''\n",
    "def input_matrix():\n",
    "    n=int(input(\"Enter the dimension of the square matrix\"))\n",
    "    matrix = []\n",
    "    for i in range(n):\n",
    "        row = []\n",
    "        for j in range(n):\n",
    "            while True:\n",
    "                try:\n",
    "                    value = float(input(f\"Enter value for matrix[{i}][{j}]: \"))\n",
    "                    row.append(value)\n",
    "                    break\n",
    "                    \n",
    "                except ValueError:\n",
    "                    print(\"Error: Please enter a valid float number.\")\n",
    "                    \n",
    "        matrix.append(row)\n",
    "    return matrix\n",
    "\n",
    "##### Example usage\n",
    "try:\n",
    "    matrix = input_matrix()\n",
    "    print(\"\\nMatrix successfully entered:\")\n",
    "    for row in matrix:\n",
    "        print(row)\n",
    "except Exception as e:\n",
    "    print(f\"An error occurred: {e}\")\n",
    "'''"
   ]
  },
  {
   "cell_type": "code",
   "execution_count": 102,
   "id": "cbcf4adf-c498-41b9-8805-2bfefa35d4b9",
   "metadata": {},
   "outputs": [
    {
     "name": "stdout",
     "output_type": "stream",
     "text": [
      "The matrix is: \n"
     ]
    },
    {
     "data": {
      "text/plain": [
       "array([[ -218.4723,  -901.2143,   845.2553,  -282.1788,   386.958 ],\n",
       "       [  -50.8714,  -513.7404,   773.4364,  -508.1207,   255.1108],\n",
       "       [ -257.6493, -1164.8854,  1406.7087,  -647.3382,   461.3214],\n",
       "       [ -479.7835, -1067.586 ,   992.9244,  -100.9406,   449.2103],\n",
       "       [ -400.3896,  -736.7248,   677.3835,   -89.1507,   450.5357]])"
      ]
     },
     "execution_count": 102,
     "metadata": {},
     "output_type": "execute_result"
    }
   ],
   "source": [
    "matrix = np.array (matrix, dtype= float)\n",
    "print(\"The matrix is: \")\n",
    "matrix"
   ]
  },
  {
   "cell_type": "code",
   "execution_count": 103,
   "id": "31bc1373-4d82-442b-880f-b67d8e9b9e8b",
   "metadata": {},
   "outputs": [],
   "source": [
    "if (np.any(np.iscomplex(la.eig(matrix)[0]))):\n",
    "    raise ValueError (\"Matrix has complex eigenvalues.\")"
   ]
  },
  {
   "cell_type": "markdown",
   "id": "f432ffcf-5e2e-4735-8755-c6cd605cd3a1",
   "metadata": {},
   "source": [
    "## (a) Determine the eigenvalues of A by the LU method."
   ]
  },
  {
   "cell_type": "markdown",
   "id": "d6dc771b-7b05-4b99-967f-506edb70a805",
   "metadata": {},
   "source": [
    "### LU decomposition "
   ]
  },
  {
   "cell_type": "code",
   "execution_count": 104,
   "id": "e077de7b-c51f-4575-a386-9f16ec5712e2",
   "metadata": {},
   "outputs": [],
   "source": [
    "def lud(a):\n",
    "    n = a.shape[0]\n",
    "    l = np.zeros((n, n))\n",
    "    u = np.zeros((n, n))\n",
    "    np.fill_diagonal(l, 1)\n",
    "    u[0] = a[0]\n",
    "\n",
    "    for i in range(1, n):\n",
    "        for j in range(n):\n",
    "            if i <= j:\n",
    "                u[i][j] = a[i][j] - sum(u[k][j] * l[i][k] for k in range(i))\n",
    "            if i > j:\n",
    "                l[i][j] = (a[i][j] - sum(u[k][j] * l[i][k] for k in range(j))) / u[j][j]\n",
    "                \n",
    "    return l, u"
   ]
  },
  {
   "cell_type": "code",
   "execution_count": 105,
   "id": "c99d19c6-06ee-4600-ab39-af501701cd5e",
   "metadata": {},
   "outputs": [
    {
     "data": {
      "text/plain": [
       "array([[ -218.4723,  -901.2143,   845.2553,  -282.1788,   386.958 ],\n",
       "       [  -50.8714,  -513.7404,   773.4364,  -508.1207,   255.1108],\n",
       "       [ -257.6493, -1164.8854,  1406.7087,  -647.3382,   461.3214],\n",
       "       [ -479.7835, -1067.586 ,   992.9244,  -100.9406,   449.2103],\n",
       "       [ -400.3896,  -736.7248,   677.3835,   -89.1507,   450.5357]])"
      ]
     },
     "execution_count": 105,
     "metadata": {},
     "output_type": "execute_result"
    }
   ],
   "source": [
    "matrix"
   ]
  },
  {
   "cell_type": "code",
   "execution_count": 106,
   "id": "eb50a1a1-5e7f-4fce-89c0-29591fa7ba96",
   "metadata": {},
   "outputs": [],
   "source": [
    "l, u= lud (matrix)"
   ]
  },
  {
   "cell_type": "markdown",
   "id": "50a869cc-131f-415d-a4c6-86da14608719",
   "metadata": {},
   "source": [
    "### L matrix"
   ]
  },
  {
   "cell_type": "code",
   "execution_count": 107,
   "id": "915e2149-0e68-44d1-a780-cc6b805e2e51",
   "metadata": {},
   "outputs": [
    {
     "data": {
      "text/plain": [
       "array([[ 1.        ,  0.        ,  0.        ,  0.        ,  0.        ],\n",
       "       [ 0.23285057,  1.        ,  0.        ,  0.        ,  0.        ],\n",
       "       [ 1.1793225 ,  0.33585303,  1.        ,  0.        ,  0.        ],\n",
       "       [ 2.1960839 , -2.99960449,  4.00654398,  1.        ,  0.        ],\n",
       "       [ 1.83267902, -3.01064632,  3.99727532,  1.67791568,  1.        ]])"
      ]
     },
     "execution_count": 107,
     "metadata": {},
     "output_type": "execute_result"
    }
   ],
   "source": [
    "l"
   ]
  },
  {
   "cell_type": "markdown",
   "id": "99eda764-a700-448d-97f1-2b8c8a25ae59",
   "metadata": {},
   "source": [
    "### U matrix"
   ]
  },
  {
   "cell_type": "code",
   "execution_count": 108,
   "id": "6109dd4c-d2b1-4fac-b676-498f5b5ff2ca",
   "metadata": {},
   "outputs": [
    {
     "data": {
      "text/plain": [
       "array([[-218.4723    , -901.2143    ,  845.2553    , -282.1788    ,\n",
       "         386.958     ],\n",
       "       [   0.        , -303.89213484,  576.61821999, -442.41520504,\n",
       "         165.0074084 ],\n",
       "       [   0.        ,    0.        ,  216.22112565, -165.97190322,\n",
       "         -50.44511597],\n",
       "       [   0.        ,    0.        ,    0.        , -143.34918771,\n",
       "         296.48560591],\n",
       "       [   0.        ,    0.        ,    0.        ,    0.        ,\n",
       "         -57.68999094]])"
      ]
     },
     "execution_count": 108,
     "metadata": {},
     "output_type": "execute_result"
    }
   ],
   "source": [
    "u"
   ]
  },
  {
   "cell_type": "markdown",
   "id": "5ca90268-4f33-4a39-a849-e024bb6d1837",
   "metadata": {},
   "source": [
    "### Shifting"
   ]
  },
  {
   "cell_type": "code",
   "execution_count": 109,
   "id": "36b89d82-a775-40d3-aed7-6988ddf160c7",
   "metadata": {},
   "outputs": [],
   "source": [
    "def shift(A):\n",
    "    possible_shift_vals = []\n",
    "    \n",
    "    for i in range(np.shape(A)[0]):\n",
    "        up_lim = A[i][i]\n",
    "        low_lim = A[i][i] \n",
    "        \n",
    "        for j in range(np.shape(A)[0]):\n",
    "            if i != j :\n",
    "                up_lim=up_lim+abs(A[i][j])\n",
    "                low_lim=low_lim-abs(A[i][j])\n",
    "                \n",
    "        possible_shift_vals.append(up_lim )\n",
    "        possible_shift_vals.append(low_lim)    \n",
    "\n",
    "    shift=np.max(np.abs(possible_shift_vals))\n",
    "    return shift"
   ]
  },
  {
   "cell_type": "markdown",
   "id": "5b920f7a-ad14-4965-800a-cc75f946360a",
   "metadata": {},
   "source": [
    "### Finding eigen values"
   ]
  },
  {
   "cell_type": "code",
   "execution_count": 131,
   "id": "1bcb9695-2451-45b1-b867-0f8b3739fc2b",
   "metadata": {},
   "outputs": [],
   "source": [
    "def UL_eigen (A, iters= 50000, tol = 1e-15):\n",
    "    m,n = A.shape \n",
    "    I = np.identity (np.shape(A)[0])\n",
    "    shift_A = shift(A) + 1\n",
    "    A = A + I * (shift_A)\n",
    "    \n",
    "    D1 = A ; D2 = np.ones(np.shape(A))\n",
    "    iter = 0\n",
    "  \n",
    "    while (np.allclose(np.diagonal (D1), np.diagonal (D2), tol)==False) :\n",
    "        L,U = lud(D1)\n",
    "        D2 = np.matmul (U,L)\n",
    "        \n",
    "        if (np.allclose(np.diagonal (D1), np.diagonal (D2), tol)==True):\n",
    "            return np.diagonal(D2) -(shift_A)\n",
    "            \n",
    "        D1 = D2\n",
    "        D2 = np.zeros((m,n))\n",
    "        iter = iter + 1\n",
    "\n",
    "        if (iter > iters):\n",
    "            raise ValueError (\"System fails to converge after 50000 iterations. Try another matrix\")\n",
    "            return \"NA\""
   ]
  },
  {
   "cell_type": "code",
   "execution_count": 111,
   "id": "527526e4-e927-471a-b759-c058b7eedfb4",
   "metadata": {},
   "outputs": [
    {
     "name": "stdout",
     "output_type": "stream",
     "text": [
      "The Eigen values of the matrix are [ 55.89979633 115.91541822 148.5156468  330.51883915 373.2413995 ]\n"
     ]
    }
   ],
   "source": [
    "UL_eigen (matrix)\n",
    "eigen = np.sort(UL_eigen (matrix))\n",
    "print(f\"The Eigen values of the matrix are {eigen}\")"
   ]
  },
  {
   "cell_type": "markdown",
   "id": "b52d58b4-1278-4ead-acbe-37986f038416",
   "metadata": {},
   "source": [
    "## (b) Using these eigenvalues, determine the determinant and indicate the uniqueness of the system."
   ]
  },
  {
   "cell_type": "code",
   "execution_count": 112,
   "id": "c04b42d6-5875-4a5c-9939-d725f25f74bf",
   "metadata": {},
   "outputs": [
    {
     "name": "stdout",
     "output_type": "stream",
     "text": [
      "The determinant of a matrix [|A|] is 118716113663.9150\n",
      "The system is consistent and has unique solutions.\n"
     ]
    }
   ],
   "source": [
    "det=np.prod(eigen)\n",
    "det=np.round(det,3)\n",
    "print(f\"The determinant of a matrix [|A|] is {det:0.4f}\")\n",
    "\n",
    "if det==0 :\n",
    "    print(\"The system is inconsistent and  has either no solutions or infinite solutions.\")\n",
    "else:\n",
    "    print(\"The system is consistent and has unique solutions.\")"
   ]
  },
  {
   "cell_type": "markdown",
   "id": "e8aa7aa6-aa72-44d4-bea0-09d71eea62d9",
   "metadata": {},
   "source": [
    "## (c) Using these eigenvalues, determine the condition number of this matrix and compare it with the condition number of the Hilbert matrix."
   ]
  },
  {
   "cell_type": "code",
   "execution_count": 113,
   "id": "c76bbf67-088f-4297-87a0-3d32b0743881",
   "metadata": {},
   "outputs": [],
   "source": [
    "def condition_num(eigenvalues):\n",
    "    max = np.max(eigenvalues)\n",
    "    min = np.min(eigenvalues)\n",
    "    condition_number = max/min\n",
    "    n=len(eigenvalues)\n",
    "    hilbert = np.zeros([n,n])\n",
    "    for i in range(0,n):\n",
    "        for j in range(0,n):\n",
    "            hilbert[i][j] = 1/(i+j+1)\n",
    "    \n",
    "    eigen_hilbert = UL_eigen(hilbert)\n",
    "    condition_hilbert = np.max(eigen_hilbert)/np.min(eigen_hilbert)\n",
    "    print(f\"Condition number of hilbert matrix = {condition_hilbert}\")\n",
    "    if condition_hilbert > condition_number:\n",
    "        print(f'It is well-conditioned matrix with condition number = {condition_number}.')\n",
    "    else:\n",
    "        print(f'It is ill - conditioned matrix with condition number = {condition_number}. ')\n",
    "    return hilbert"
   ]
  },
  {
   "cell_type": "code",
   "execution_count": 114,
   "id": "3078ab8c-4702-445a-ae9d-602d92578538",
   "metadata": {},
   "outputs": [
    {
     "name": "stdout",
     "output_type": "stream",
     "text": [
      "Condition number of hilbert matrix = 13304.948112154536\n",
      "It is well-conditioned matrix with condition number = 6.676972439727691.\n"
     ]
    }
   ],
   "source": [
    "hilbert = condition_num (eigen)"
   ]
  },
  {
   "cell_type": "code",
   "execution_count": 115,
   "id": "d7257b8f-0b07-449c-b891-e11e09d920c4",
   "metadata": {},
   "outputs": [
    {
     "name": "stdout",
     "output_type": "stream",
     "text": [
      "[[1.         0.5        0.33333333 0.25       0.2       ]\n",
      " [0.5        0.33333333 0.25       0.2        0.16666667]\n",
      " [0.33333333 0.25       0.2        0.16666667 0.14285714]\n",
      " [0.25       0.2        0.16666667 0.14285714 0.125     ]\n",
      " [0.2        0.16666667 0.14285714 0.125      0.11111111]]\n"
     ]
    }
   ],
   "source": [
    "print (hilbert)"
   ]
  },
  {
   "cell_type": "code",
   "execution_count": 116,
   "id": "988f4c8f-568c-4ffe-a4b7-3d21faebc4d7",
   "metadata": {},
   "outputs": [
    {
     "name": "stdout",
     "output_type": "stream",
     "text": [
      "This formula of Condition Number = (max eigenvalue) / (min eigenvalue) is only applicable if A is a normal matrix. Otherwise, we use function of (maximum singular value) / (minimum singular value), where singular values can be found by performing SVD of the matrix.\n",
      "\n",
      "If calculated using SVD, we get: Matrix condition number = 735.2655 and Hilbert condition number = 476607.2502.\n"
     ]
    }
   ],
   "source": [
    "print('This formula of Condition Number = (max eigenvalue) / (min eigenvalue) is only applicable if A is a normal matrix. Otherwise, we use function of (maximum singular value) / (minimum singular value), where singular values can be found by performing SVD of the matrix.')\n",
    "\n",
    "_,s,_ = la.svd (matrix)\n",
    "_,s1,_ = la.svd (hilbert)\n",
    "print (f\"\\nIf calculated using SVD, we get: Matrix condition number = {s[0]/s[-1]:0.4f} and Hilbert condition number = {s1[0]/s1[-1]:0.4f}.\")"
   ]
  },
  {
   "cell_type": "markdown",
   "id": "e996cd7e-5d2c-44e6-886f-210a302069bb",
   "metadata": {},
   "source": [
    "## (d) Write down the polynomial equation for which these eigenvalues are the roots of the polynomial."
   ]
  },
  {
   "cell_type": "code",
   "execution_count": 117,
   "id": "f9fcf612-fa21-4e07-b5ad-2eca932a6e52",
   "metadata": {},
   "outputs": [
    {
     "name": "stdout",
     "output_type": "stream",
     "text": [
      "(1.000 x^5) + (-1024.091 x^4) + (380796.334 x^3) + (-62997548.971 x^2) + (4624492124.675 x^1) + (-118716113663.915 x^0) + 0\n"
     ]
    }
   ],
   "source": [
    "product_of_roots=[1]   #product of roots taken n at a time\n",
    "dimension=np.shape(matrix)[0]\n",
    "\n",
    "for i in range(dimension):\n",
    "    # Generate all pairs of elements\n",
    "    combination = itertools.combinations(eigen, i+1)\n",
    "    \n",
    "    # Calculate the product of each pair\n",
    "    products = [math.prod(roots) for roots in combination]\n",
    "    product_of_roots.append(((-1)**(i+1))*np.sum(products))\n",
    "    \n",
    "n = len(product_of_roots)\n",
    "x = sp.symbols(\"x\")\n",
    "\n",
    "for i in range(1,n+1):\n",
    "    print(f\"({(np.sum(product_of_roots[i-1])):0.3f} x^{n-i})\", end = \" + \")\n",
    "print(0)"
   ]
  },
  {
   "cell_type": "markdown",
   "id": "be8f2a17-2f52-40ff-ad6e-38822fb2b00d",
   "metadata": {},
   "source": [
    "## (e) Determine the eigenvalue by the power method for both A and the inverse of A. Determine the inverse of A by the Jordan technique. Show that these eigenvalues match with the ones obtained by the LU method."
   ]
  },
  {
   "cell_type": "code",
   "execution_count": 118,
   "id": "90348e7a-4580-449c-9bdb-42b55f48277d",
   "metadata": {},
   "outputs": [],
   "source": [
    "zero_check = 0"
   ]
  },
  {
   "cell_type": "code",
   "execution_count": 119,
   "id": "e3a5406f-95bd-4df3-9e2d-d84f760bfe5f",
   "metadata": {},
   "outputs": [],
   "source": [
    "def gauss_jordan(sample_matrix):\n",
    "    global zero_check\n",
    "    n = len(sample_matrix)\n",
    "    augmented_matrix = np.hstack((sample_matrix, np.identity(n)))  # Augment with identity matrix\n",
    "\n",
    "    for i in range(n):\n",
    "        # Partial pivoting: Find the maximum element in the current column\n",
    "        max_row = np.argmax(np.abs(augmented_matrix[i:, i])) + i\n",
    "        if augmented_matrix[max_row, i] == 0:\n",
    "            raise ValueError(\"Matrix is singular and cannot be inverted.\")\n",
    "            zero_check = 1\n",
    "                        \n",
    "        # Swap rows to place the largest element on the diagonal\n",
    "        if i != max_row:\n",
    "            augmented_matrix[[i, max_row]] = augmented_matrix[[max_row, i]]\n",
    "        \n",
    "        # Make the diagonal element 1 by dividing the row by the diagonal element\n",
    "        diag_element = augmented_matrix[i][i]\n",
    "        augmented_matrix[i] = augmented_matrix[i] / diag_element\n",
    "\n",
    "        # Make all elements in the current column, except the diagonal element, 0\n",
    "        for j in range(n):\n",
    "            if i != j:\n",
    "                multiplication_factor = augmented_matrix[j][i]\n",
    "                augmented_matrix[j] = augmented_matrix[j] - multiplication_factor * augmented_matrix[i]\n",
    "\n",
    "    # Extract the inverse matrix from the augmented matrix\n",
    "    inverse_matrix = augmented_matrix[:, n:]\n",
    "    return inverse_matrix"
   ]
  },
  {
   "cell_type": "code",
   "execution_count": 120,
   "id": "d4d37edc-6a97-4588-8a6d-527155faab88",
   "metadata": {},
   "outputs": [],
   "source": [
    "def power_method (A, x_input, iters=5000, tol = 1e-15):\n",
    "    b = np.zeros ((np.array(x_input).shape[0], iters))\n",
    "    c = np.zeros ((iters)); iter = 0\n",
    "    \n",
    "    b_in = np.matmul (A, x_input) \n",
    "    c[0] = np.max (b_in)\n",
    "    x_in = b_in / c[0]\n",
    "\n",
    "    for i in range (iters):\n",
    "        iter = iter + 1\n",
    "        b = np.matmul(A, x_in)\n",
    "        c[i+1] = np.max (b)\n",
    "        x = b / c[i+1] \n",
    "        \n",
    "        if (iter > iters - 2):\n",
    "            raise ValueError (f\"System not converged after {iters} iterations.\")\n",
    "            return 'NA'\n",
    "            \n",
    "        if (np.allclose(c[i+1], c[i], tol)):\n",
    "            return c[i+1]\n",
    "            \n",
    "        elif (np.allclose(c[i+1], c[i-1], tol)):\n",
    "            c_max = np.sqrt(c[i+1]*c[i-1])\n",
    "            return c_max            \n",
    "        else:\n",
    "            c[i+2] = c [i+1]\n",
    "            x_in = x"
   ]
  },
  {
   "cell_type": "code",
   "execution_count": 121,
   "id": "98192bbf-355f-4468-9c5f-8bd7a086d2a9",
   "metadata": {},
   "outputs": [],
   "source": [
    "def initial_vector(A):\n",
    "    matrix = []; n = A.shape [0]\n",
    "    for i in range(n):\n",
    "        while True:\n",
    "            try:\n",
    "                value = float (input (f\"Enter value for [{i}]: \"))\n",
    "                matrix.append(value)\n",
    "                break\n",
    "                \n",
    "            except ValueError:\n",
    "                print(\"Error: Please enter a valid float number.\")\n",
    "    return matrix"
   ]
  },
  {
   "cell_type": "code",
   "execution_count": 122,
   "id": "b6348b0e-3889-4db5-8d4f-91ffdd0a8f62",
   "metadata": {},
   "outputs": [
    {
     "name": "stdout",
     "output_type": "stream",
     "text": [
      "Inverse of matrix calculated using Gauss-Jordan: \n",
      "[[ 0.01904828  0.07451485 -0.0694239   0.04861467 -0.03593923]\n",
      " [ 0.00269396  0.04400406 -0.03783424  0.02870269 -0.01710888]\n",
      " [ 0.00817948  0.06790603 -0.059944    0.04760667 -0.03156383]\n",
      " [ 0.01371895  0.07501115 -0.06975911  0.0531799  -0.03585155]\n",
      " [ 0.01175011  0.05092322 -0.0472416   0.02908504 -0.01733403]]\n"
     ]
    }
   ],
   "source": [
    "det = np.round(UL_eigen(matrix),4)\n",
    "if np.allclose(det,0):\n",
    "    raise ValueError (\"Determinant = 0, Matrix is singular, non-invertible.\")\n",
    "    zero_check = 1\n",
    "else:\n",
    "    matrix_inv = gauss_jordan(matrix)\n",
    "\n",
    "if (zero_check == 0):\n",
    "    print (\"Inverse of matrix calculated using Gauss-Jordan: \")\n",
    "    print (matrix_inv)"
   ]
  },
  {
   "cell_type": "code",
   "execution_count": 123,
   "id": "4adcba6d-d6cf-46cd-961c-fcc69c1fd2a4",
   "metadata": {},
   "outputs": [
    {
     "name": "stdout",
     "output_type": "stream",
     "text": [
      "Initial vector for power method\n"
     ]
    },
    {
     "name": "stdin",
     "output_type": "stream",
     "text": [
      "Enter value for [0]:  1\n",
      "Enter value for [1]:  0\n",
      "Enter value for [2]:  0\n",
      "Enter value for [3]:  1\n",
      "Enter value for [4]:  0\n"
     ]
    }
   ],
   "source": [
    "print(\"Initial vector for power method\")\n",
    "a = initial_vector (matrix)"
   ]
  },
  {
   "cell_type": "markdown",
   "id": "041e85ed-6a86-44c9-bf73-5f472fd66ec1",
   "metadata": {},
   "source": [
    "#### Verifying if the eigen values found using power method and LU are the same "
   ]
  },
  {
   "cell_type": "markdown",
   "id": "c82cd057-d7a9-4705-8709-721d58bcd731",
   "metadata": {},
   "source": [
    "##### For A"
   ]
  },
  {
   "cell_type": "code",
   "execution_count": 124,
   "id": "8f7b8443-5aba-4871-88b9-2eb0d532bd93",
   "metadata": {},
   "outputs": [
    {
     "name": "stdout",
     "output_type": "stream",
     "text": [
      "Finding eigen value by power method for matrix(A)\n",
      "\n",
      "The largest eigen value is: 373.2413994206315\n",
      "The largest eigen value by LU decomposition is 373.2413994974372\n",
      "\n",
      "Eigen values are matching.\n"
     ]
    }
   ],
   "source": [
    "print(\"Finding eigen value by power method for matrix(A)\")\n",
    "pow = power_method (matrix,a)\n",
    "\n",
    "if (isinstance (pow, float)):\n",
    "    print(f\"\\nThe largest eigen value is: {pow}\")\n",
    "    \n",
    "    print( f\"The largest eigen value by LU decomposition is {np.max(UL_eigen(matrix))}\")\n",
    "    \n",
    "    if np.allclose(pow,np.max(UL_eigen(matrix)), atol=1e-3 )== True:\n",
    "        print(\"\\nEigen values are matching.\")"
   ]
  },
  {
   "cell_type": "markdown",
   "id": "9b9cb538-f38b-4f0d-a99b-bb0f722f08ea",
   "metadata": {},
   "source": [
    "##### For A inverse"
   ]
  },
  {
   "cell_type": "code",
   "execution_count": 125,
   "id": "be784a54-1905-4706-af91-dc419c6371b1",
   "metadata": {},
   "outputs": [
    {
     "data": {
      "text/plain": [
       "(array([0.01788915+0.j, 0.00862698+0.j, 0.0067333 +0.j, 0.00302555+0.j,\n",
       "        0.00267923+0.j]),\n",
       " array([[ 0.56959627,  0.59233232,  0.03419653, -0.11698838,  0.43595076],\n",
       "        [ 0.22872752,  0.13333189,  0.58171331, -0.62663859,  0.09049141],\n",
       "        [ 0.43176391,  0.28148342,  0.34785624, -0.75536034,  0.38179245],\n",
       "        [ 0.53712306,  0.48609614,  0.13075306, -0.1333673 ,  0.63313465],\n",
       "        [ 0.38512666,  0.56199881,  0.72273086, -0.07267541,  0.5051072 ]]))"
      ]
     },
     "execution_count": 125,
     "metadata": {},
     "output_type": "execute_result"
    }
   ],
   "source": [
    "la.eig (matrix_inv)"
   ]
  },
  {
   "cell_type": "code",
   "execution_count": 126,
   "id": "1565a9f0-bb0d-419c-b221-50891dd1c3a3",
   "metadata": {},
   "outputs": [
    {
     "name": "stdout",
     "output_type": "stream",
     "text": [
      "Finding eigen value by power method for matrix(A inverse)\n",
      "\n",
      "The largest eigen value is: 0.01788915841853292\n",
      "The largest eigen value by LU decomposition is 0.017889152722392554\n",
      "\n",
      "Eigen values are matching.\n"
     ]
    }
   ],
   "source": [
    "print(\"Finding eigen value by power method for matrix(A inverse)\")\n",
    "pow_inv = power_method (matrix_inv,a)\n",
    "\n",
    "if (isinstance (pow, float)):\n",
    "    print(f\"\\nThe largest eigen value is: {pow_inv}\")\n",
    "    print(f\"The largest eigen value by LU decomposition is {np.max(UL_eigen(matrix_inv))}\")\n",
    "    \n",
    "    if np.allclose(1/pow_inv,np.min(UL_eigen(matrix)) ,atol=1e-3)== True:\n",
    "        print(\"\\nEigen values are matching.\")"
   ]
  },
  {
   "cell_type": "markdown",
   "id": "4e36fbe2-5bc4-4ec8-a4c5-2b91cb737a70",
   "metadata": {},
   "source": [
    "## (f) Solve Ax=b for any b. Change to another b and use the same LU decomposed matrix to solve the system."
   ]
  },
  {
   "cell_type": "code",
   "execution_count": 127,
   "id": "413bb08a-ccb2-4f66-9fb0-2ab4bd91065e",
   "metadata": {},
   "outputs": [],
   "source": [
    "def solve_LU(sample_matrix, b):\n",
    "    L,U = lud(sample_matrix)\n",
    "    y = np.zeros(len(b))\n",
    "    x = np.zeros(len(b))\n",
    "    \n",
    "    # Ly = b\n",
    "    y[0] = b[0]\n",
    "    for i in range(1, len(b)):\n",
    "        sum_Ly = 0\n",
    "        for j in range(i):\n",
    "            sum_Ly += L[i][j] * y[j]\n",
    "        y[i] = b[i] - sum_Ly\n",
    "\n",
    "    #Ux = y\n",
    "    x[-1] = y[-1] / U[-1][-1]\n",
    "    for i in range(len(b) - 2, -1, -1):\n",
    "        sum_Ux = 0\n",
    "        for j in range(i + 1, len(b)):\n",
    "            sum_Ux += U[i][j] * x[j]\n",
    "        x[i] = (y[i] - sum_Ux) / U[i][i]\n",
    "\n",
    "    print(\"Solution vector x:\", x)\n",
    "    return x"
   ]
  },
  {
   "cell_type": "code",
   "execution_count": 128,
   "id": "ae805af1-56bd-47b1-b2c4-47464deb07f4",
   "metadata": {},
   "outputs": [],
   "source": [
    "def b(A):\n",
    "    matrix = []; n = A.shape [0]\n",
    "    for i in range(n):\n",
    "        while True:\n",
    "            try:\n",
    "                value = float (input (f\"Enter value for [{i}]: \"))\n",
    "                matrix.append(value)\n",
    "                break\n",
    "                \n",
    "            except ValueError:\n",
    "                print(\"Error: Please enter a valid float number.\")\n",
    "    return matrix"
   ]
  },
  {
   "cell_type": "code",
   "execution_count": 129,
   "id": "55523483-6764-40f6-b4ae-c7e0af761cba",
   "metadata": {},
   "outputs": [
    {
     "name": "stdin",
     "output_type": "stream",
     "text": [
      "Enter value for [0]:  1\n",
      "Enter value for [1]:  5\n",
      "Enter value for [2]:  3\n",
      "Enter value for [3]:  8\n",
      "Enter value for [4]:  3\n"
     ]
    }
   ],
   "source": [
    "b = b (matrix)"
   ]
  },
  {
   "cell_type": "code",
   "execution_count": 130,
   "id": "ebf6fb9e-4e99-439e-a2e1-5134719f1ba1",
   "metadata": {},
   "outputs": [
    {
     "name": "stdout",
     "output_type": "stream",
     "text": [
      "Solution vector x: [0.4644505  0.28750647 0.45403948 0.49738194 0.30531963]\n"
     ]
    }
   ],
   "source": [
    "x = solve_LU (matrix, b)"
   ]
  }
 ],
 "metadata": {
  "kernelspec": {
   "display_name": "Python 3 (ipykernel)",
   "language": "python",
   "name": "python3"
  },
  "language_info": {
   "codemirror_mode": {
    "name": "ipython",
    "version": 3
   },
   "file_extension": ".py",
   "mimetype": "text/x-python",
   "name": "python",
   "nbconvert_exporter": "python",
   "pygments_lexer": "ipython3",
   "version": "3.11.5"
  }
 },
 "nbformat": 4,
 "nbformat_minor": 5
}
